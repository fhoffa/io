{
 "metadata": {
  "name": ""
 },
 "nbformat": 3,
 "nbformat_minor": 0,
 "worksheets": [
  {
   "cells": [
    {
     "cell_type": "markdown",
     "metadata": {},
     "source": [
      "# Predicting the World Cup with the Google Cloud Platform\n",
      "\n",
      "This notebook builds a machine learning model that can be used to predict professional soccer games. Once the model is built, we use it to predict outcomes in the World Cup. If you are seeing this after the world cup is over, you can use it to predict hypothetical matchups (how would the 2010 World Cup winners do against the current champions?). You can also see how various different strategies would affect prediction outcomes. Maybe you'd like to add player salary data and see how that affects predictions (likely it will help a lot). Maybe you'd like to try Poisson Regression instead of Logistic Regression. Or maybe you'd like to try data coercion techniques like whitening or PCA.\n",
      "\n",
      "The model uses Logistic Regression, built from touch-by-touch data about three different soccer leagues (English Premier League, Spainish La Liga, and American Major League Soccer) over multiple seasons. Because the data is licensed, only the aggregated statistics about those games are available.\n",
      "\n",
      "There are three python files that are used by this notebook. They must be in the path. These are:\n",
      "\n",
      "* match_stats: Reads the match statistics from BigQuery. Because we are using the pre-aggregated data, most of the code here is disabled, but it is kept in order to show the data transformations that are done from the raw data in order to build the stats.\n",
      "* features: Turns raw statistics into features that get fed into the machine learning model. These features combine statistics from the trailing N games to predict the next game. \n",
      "* world_cup: Helper methods for cleaning the data and building and running the logistic regression model.\n",
      "* power: Computes a \"power\" statistic over a number of teams who have played against eachother, attempting to come up with a ranking.\n"
     ]
    },
    {
     "cell_type": "markdown",
     "metadata": {},
     "source": [
      "## Setting up BigQuery Authentication\n",
      "\n",
      "Since we're providing this notebook as part of a Docker image that can be run on Google Compute Engine, we'll override the authorization used in the Pandas BigQuery connector to use GCE auth. This will mean that you don't have to do any authorization on your own. You must, however, have the BigQuery API enabled in your Google Cloud Project (https://console.developers.google.com). Because the data sizes (after aggregation) are quite small, you may not need to enable billing."
     ]
    },
    {
     "cell_type": "code",
     "collapsed": false,
     "input": [
      "from oauth2client.gce import AppAssertionCredentials\n",
      "from bigquery_client import BigqueryClient\n",
      "from pandas.io import gbq\n",
      "\n",
      "def GetMetadata(path):\n",
      "  import urllib2\n",
      "  BASE_PATH = 'http://metadata/computeMetadata/v1/'\n",
      "  request = urllib2.Request(BASE_PATH + path, headers={'Metadata-Flavor': 'Google'})\n",
      "  return urllib2.urlopen(request).read()\n",
      "\n",
      "credentials = AppAssertionCredentials(scope='https://www.googleapis.com/auth/bigquery')\n",
      "\n",
      "client = BigqueryClient(credentials=credentials,\n",
      "                        api='https://www.googleapis.com',\n",
      "                        api_version='v2',\n",
      "                        project_id=GetMetadata('project/project-id'))\n",
      "\n",
      "gbq._authenticate = lambda: client"
     ],
     "language": "python",
     "metadata": {},
     "outputs": [],
     "prompt_number": 16
    },
    {
     "cell_type": "markdown",
     "metadata": {},
     "source": [
      "## Verifying setup\n",
      "Loads the required modules and run a quick BigQuery query. This will test to make sure we have authentication and the pandas bigquery connector working correctly."
     ]
    },
    {
     "cell_type": "code",
     "collapsed": false,
     "input": [
      "from pandas.io import gbq\n",
      "\n",
      "# Import the four python modules that we use.\n",
      "import match_stats\n",
      "import features\n",
      "import world_cup\n",
      "import power\n",
      "reload(power)\n",
      "query = \"SELECT * FROM (%(summary_query)s) LIMIT 1\" % {\n",
      "    'summary_query': match_stats.team_game_summary_query()}\n",
      "gbq.read_gbq(query)"
     ],
     "language": "python",
     "metadata": {},
     "outputs": [
      {
       "output_type": "stream",
       "stream": "stdout",
       "text": [
        "\r",
        "Waiting on bqjob_r7adfaebe9a65eafa_000001471f2b00a5_1 ... (0s) Current status: DONE   \n"
       ]
      },
      {
       "html": [
        "<div style=\"max-height:1000px;max-width:1500px;overflow:auto;\">\n",
        "<table border=\"1\" class=\"dataframe\">\n",
        "  <thead>\n",
        "    <tr style=\"text-align: right;\">\n",
        "      <th></th>\n",
        "      <th>matchid</th>\n",
        "      <th>teamid</th>\n",
        "      <th>passes</th>\n",
        "      <th>bad_passes</th>\n",
        "      <th>pass_ratio</th>\n",
        "      <th>corners</th>\n",
        "      <th>fouls</th>\n",
        "      <th>shots</th>\n",
        "      <th>cards</th>\n",
        "      <th>pass_80</th>\n",
        "      <th>pass_70</th>\n",
        "      <th>timestamp</th>\n",
        "      <th>goals</th>\n",
        "      <th>is_home</th>\n",
        "      <th>team_name</th>\n",
        "      <th>competitionid</th>\n",
        "      <th>seasonid</th>\n",
        "      <th>expected_goals</th>\n",
        "      <th>on_target</th>\n",
        "      <th>length</th>\n",
        "    </tr>\n",
        "  </thead>\n",
        "  <tbody>\n",
        "    <tr>\n",
        "      <th>0</th>\n",
        "      <td> 731821</td>\n",
        "      <td> 632</td>\n",
        "      <td> 4.637097</td>\n",
        "      <td> 1.209677</td>\n",
        "      <td> 0.792011</td>\n",
        "      <td> 0.104839</td>\n",
        "      <td> 0.233871</td>\n",
        "      <td> 0.233871</td>\n",
        "      <td> 3</td>\n",
        "      <td> 0.217742</td>\n",
        "      <td> 0.580645</td>\n",
        "      <td> 1404243374227</td>\n",
        "      <td> 1</td>\n",
        "      <td> 1</td>\n",
        "      <td> Argentina</td>\n",
        "      <td> 4</td>\n",
        "      <td> 2013</td>\n",
        "      <td> 2.368077</td>\n",
        "      <td> 0.064516</td>\n",
        "      <td> 124</td>\n",
        "    </tr>\n",
        "  </tbody>\n",
        "</table>\n",
        "</div>"
       ],
       "metadata": {},
       "output_type": "pyout",
       "prompt_number": 4,
       "text": [
        "  matchid  teamid    passes  bad_passes  pass_ratio   corners     fouls  \\\n",
        "0  731821     632  4.637097    1.209677    0.792011  0.104839  0.233871   \n",
        "\n",
        "      shots  cards   pass_80   pass_70      timestamp  goals  is_home  \\\n",
        "0  0.233871      3  0.217742  0.580645  1404243374227      1        1   \n",
        "\n",
        "   team_name  competitionid  seasonid  expected_goals  on_target  length  \n",
        "0  Argentina              4      2013        2.368077   0.064516     124  "
       ]
      }
     ],
     "prompt_number": 4
    },
    {
     "cell_type": "markdown",
     "metadata": {},
     "source": [
      "## Building features\n",
      "This will return a pandas dataframe that contains the features that will be used to build a model.\n",
      "\n",
      "The features query will read from the game summary table that has prepared per-game statistics that will be used to predict outcomes.\n",
      "The data has been aggregated from touch-by-touch data from Opta. However, since that data is not public, we use these\n",
      "prepared statistics instead of the raw data.\n",
      "\n",
      "In order to predict a game, we look at the previous N games of history for each team, where N is defined here as history_size."
     ]
    },
    {
     "cell_type": "code",
     "collapsed": false,
     "input": [
      "import features\n",
      "reload(features)\n",
      "\n",
      "# Sets the history size. This is how far back we will look before each game to aggregate statistics\n",
      "# to predict the next game. For example, a history size of 5 will look at the previous 5 games played\n",
      "# by a particular team in order to predict the next game.\n",
      "history_size = 6\n",
      "\n",
      "game_summaries = features.get_game_summaries()\n",
      "data = features.get_features(history_size)"
     ],
     "language": "python",
     "metadata": {},
     "outputs": [
      {
       "output_type": "stream",
       "stream": "stdout",
       "text": [
        "\r",
        "Waiting on bqjob_r3c376ca4ad246642_000001471f49d38f_1 ... (0s) Current status: DONE   \n",
        "\r",
        "Waiting on bqjob_r4c0dbd82b41715da_000001471f49f1fe_2 ... (0s) Current status: DONE   "
       ]
      },
      {
       "output_type": "stream",
       "stream": "stdout",
       "text": [
        "\n"
       ]
      }
     ],
     "prompt_number": 17
    },
    {
     "cell_type": "markdown",
     "metadata": {},
     "source": [
      "The features include rollups from the last K games. Most of them are averages that are computed per-minute of game time. Per-minute stats are used in order to be able to normalize for games in the world cup that go into overtime.\n",
      "\n",
      "### Feature columns:\n",
      "The following columns are the features that will be used to build the prediction model:\n",
      "\n",
      "* is_home: Whether a team is playing at home or away. This turns out to be a big deal in soccer.\n",
      "* avg_points: Average number of points (3 for a win, 1 for a draw, 0 for a loss) earned in the last K games.\n",
      "* avg_goals: Average number of goals scored in the last K games.\n",
      "* op_average_goals: Average number of goals scored by the opponent in the last K games.\n",
      "* pass\\_{70/80}: Number of completed passes per minute in the attacking 30%/20% of the field.\n",
      "* op_pass\\_{70/80}: Number of completed passes by the opponent in their attacking 30%/20% of the field.\n",
      "* expected_goals: Average number of expected goals in the last K games, where expected goals is computed based on the number of shots taken and their distance from the goal.\n",
      "* passes: Number of passes completed per minute.\n",
      "* bad_passes: Number of passes that didn't complete successfully per minute.\n",
      "* pass_ratio: Percentage of completed passes.\n",
      "* corners: Number of corner kicks awareded per minute.\n",
      "* fouls: Number of fouls committed per minute.\n",
      "* cards: Number of cards recieved (red or yellow) per game.\n",
      "* shots: Number of shots taken per minute.\n",
      "* op\\_\\*: Statistics about the opponent in the historical games. This is not the opoonent shown in op_team_name; instead, these stats show how the primary team's opponents have fared against them. For example, op_corners is how many corners the teams opponents have been awarded per minute.\n",
      "* \\*\\_op\\_ratio: Ratio of a team's statistics to their opponents.\n",
      "\n",
      "### Non-feature columns:\n",
      "The following columns are included as metadata about the match:\n",
      "\n",
      "* matchid: Unique id for the match\n",
      "* teamid: Unique id for the team whose historical statistics we're looking at.\n",
      "* op_teamid: Unique id for the opposing team. None of these statistics reflect this opponent.\n",
      "* team_name: Name of the team whose historical statistics we're looking at.\n",
      "* op_team_name: Name of the opposing team.\n",
      "* timestamp: Time at which the game was played.\n",
      "* competitionid: Unique id for the competition (separates MLS from FIFA World CUp from EPL).\n",
      "\n",
      "\n",
      "### Target columns:\n",
      "The following columns are target variables that we will be attempting to predict. These columns must be dropped before any prediction is done, but are useful when building a model. The models that we will build below will just try to predict outcome (points) but other models may choose to predict goals, which is why they are also included here.\n",
      "\n",
      "* points: The outcome of the game. 3 points for a win, 1 point for a draw, 0 for a loss. (Points are not goals!)\n",
      "* goals: The number of goals the team referenced by teamid scored.\n",
      "* op_goals: The number of goals the team referenced by op_teamid scored."
     ]
    },
    {
     "cell_type": "code",
     "collapsed": false,
     "input": [
      "# Partition the world cup data and the club data. We're only going to train our model using club data.\n",
      "\n",
      "club_data = data[data['competitionid'] <> 4]\n",
      "# Show the features latest game in competition id 4, which is the world cup.\n",
      "data[data['competitionid'] == 4].iloc[0]\n"
     ],
     "language": "python",
     "metadata": {},
     "outputs": [
      {
       "metadata": {},
       "output_type": "pyout",
       "prompt_number": 19,
       "text": [
        "matchid                                  731825\n",
        "teamid                                      838\n",
        "op_teamid                                   366\n",
        "competitionid                                 4\n",
        "seasonid                                   2013\n",
        "is_home                                       0\n",
        "team_name                            Costa Rica\n",
        "op_team_name                        Netherlands\n",
        "timestamp            2014-07-05 21:00:00.000000\n",
        "goals                                         0\n",
        "op_goals                                      0\n",
        "points                                        1\n",
        "avg_points                             1.333333\n",
        "avg_goals                                     1\n",
        "op_avg_goals                           1.166667\n",
        "pass_70                               0.3399397\n",
        "pass_80                               0.1120202\n",
        "op_pass_70                            0.4662248\n",
        "op_pass_80                            0.1780651\n",
        "expected_goals                        0.6917585\n",
        "op_expected_goals                      1.297244\n",
        "passes                                 3.452413\n",
        "bad_passes                             1.031474\n",
        "pass_ratio                            0.7642288\n",
        "corners                              0.03944591\n",
        "fouls                                 0.1702732\n",
        "cards                                       2.5\n",
        "shots                                  0.118734\n",
        "op_passes                              4.470401\n",
        "op_bad_passes                          1.022607\n",
        "op_corners                           0.06425629\n",
        "op_fouls                              0.1960061\n",
        "op_cards                                      3\n",
        "op_shots                              0.1420385\n",
        "goals_op_ratio                        0.9166667\n",
        "shots_op_ratio                        0.8773148\n",
        "pass_op_ratio                          0.945851\n",
        "Name: 8, dtype: object"
       ]
      }
     ],
     "prompt_number": 19
    },
    {
     "cell_type": "markdown",
     "metadata": {},
     "source": [
      "Compute the crosstabs for goals scored vs outcomes. Scoring more than 5 goals means you're guaranteed to win, and scoring no goals means you lose about 75% of the time (sometimes you tie!)."
     ]
    },
    {
     "cell_type": "code",
     "collapsed": false,
     "input": [
      "import pandas as pd\n",
      "pd.crosstab(\n",
      "    club_data['goals'], \n",
      "    club_data.replace(\n",
      "        {'points': {\n",
      "            0: 'lose', 1: 'tie', 3: 'win'}})['points'])"
     ],
     "language": "python",
     "metadata": {},
     "outputs": [
      {
       "html": [
        "<div style=\"max-height:1000px;max-width:1500px;overflow:auto;\">\n",
        "<table border=\"1\" class=\"dataframe\">\n",
        "  <thead>\n",
        "    <tr style=\"text-align: right;\">\n",
        "      <th>points</th>\n",
        "      <th>lose</th>\n",
        "      <th>tie</th>\n",
        "      <th>win</th>\n",
        "    </tr>\n",
        "    <tr>\n",
        "      <th>goals</th>\n",
        "      <th></th>\n",
        "      <th></th>\n",
        "      <th></th>\n",
        "    </tr>\n",
        "  </thead>\n",
        "  <tbody>\n",
        "    <tr>\n",
        "      <th>0</th>\n",
        "      <td> 727</td>\n",
        "      <td> 267</td>\n",
        "      <td>   0</td>\n",
        "    </tr>\n",
        "    <tr>\n",
        "      <th>1</th>\n",
        "      <td> 477</td>\n",
        "      <td> 394</td>\n",
        "      <td> 320</td>\n",
        "    </tr>\n",
        "    <tr>\n",
        "      <th>2</th>\n",
        "      <td> 131</td>\n",
        "      <td> 205</td>\n",
        "      <td> 500</td>\n",
        "    </tr>\n",
        "    <tr>\n",
        "      <th>3</th>\n",
        "      <td>  21</td>\n",
        "      <td>  40</td>\n",
        "      <td> 314</td>\n",
        "    </tr>\n",
        "    <tr>\n",
        "      <th>4</th>\n",
        "      <td>   2</td>\n",
        "      <td>   6</td>\n",
        "      <td> 148</td>\n",
        "    </tr>\n",
        "    <tr>\n",
        "      <th>5</th>\n",
        "      <td>   0</td>\n",
        "      <td>   2</td>\n",
        "      <td>  65</td>\n",
        "    </tr>\n",
        "    <tr>\n",
        "      <th>6</th>\n",
        "      <td>   0</td>\n",
        "      <td>   0</td>\n",
        "      <td>  12</td>\n",
        "    </tr>\n",
        "    <tr>\n",
        "      <th>7</th>\n",
        "      <td>   0</td>\n",
        "      <td>   0</td>\n",
        "      <td>   6</td>\n",
        "    </tr>\n",
        "    <tr>\n",
        "      <th>8</th>\n",
        "      <td>   0</td>\n",
        "      <td>   0</td>\n",
        "      <td>   1</td>\n",
        "    </tr>\n",
        "  </tbody>\n",
        "</table>\n",
        "</div>"
       ],
       "metadata": {},
       "output_type": "pyout",
       "prompt_number": 20,
       "text": [
        "points  lose  tie  win\n",
        "goals                 \n",
        "0        727  267    0\n",
        "1        477  394  320\n",
        "2        131  205  500\n",
        "3         21   40  314\n",
        "4          2    6  148\n",
        "5          0    2   65\n",
        "6          0    0   12\n",
        "7          0    0    6\n",
        "8          0    0    1"
       ]
      }
     ],
     "prompt_number": 20
    },
    {
     "cell_type": "markdown",
     "metadata": {},
     "source": [
      "## Training the model\n",
      "\n",
      "We're going to train a logistic regression model based on the club data only. This will use an external code file world_cup.py to build the model.\n",
      "\n",
      "The output of this cell this will be a logistic regression model and a test set that we can use to test how good we are at predicting outcomes.\n",
      "The cell will also print out the Rsquared value for the regression. This is a measaure of how good the fit was to the model (higher is better)."
     ]
    },
    {
     "cell_type": "code",
     "collapsed": false,
     "input": [
      "import world_cup\n",
      "reload(world_cup)\n",
      "import match_stats\n",
      "pd.set_option('display.max_rows', 5000)\n",
      "pd.set_option('display.max_columns', 500)\n",
      "pd.set_option('display.width', 1000)\n",
      "\n",
      "# Don't train on games that ended in a draw, since they have less signal.\n",
      "train = club_data.loc[club_data['points'] <> 1] \n",
      "# train = club_data\n",
      "\n",
      "(model, test) = world_cup.trainModel(\n",
      "     train, match_stats.get_non_feature_columns())\n",
      "print \"\\nRsquared: %0.03g\" % model.prsquared"
     ],
     "language": "python",
     "metadata": {},
     "outputs": [
      {
       "output_type": "stream",
       "stream": "stdout",
       "text": [
        "\n",
        "Rsquared: 0.172\n"
       ]
      }
     ],
     "prompt_number": 21
    },
    {
     "cell_type": "markdown",
     "metadata": {},
     "source": [
      "## Picking important features\n",
      "\n",
      "The logistic regression model is built using regularization; this means that it penalizes complex models. It has the side effect of helping us with feature selection. Features that are not important will be dropped out of the model completely. \n",
      "\n",
      "We can divide the features into three buckets:\n",
      "\n",
      "* Positive features: These features mean that a team is more likely to win.\n",
      "* Negative features: These features mean that a team is less likely to win.\n",
      "* Dropped features: These features aren't important, and if we included them in the model, we'd probably be overfitting."
     ]
    },
    {
     "cell_type": "code",
     "collapsed": false,
     "input": [
      "params = model.params.copy()\n",
      "params.sort(ascending=False)\n",
      "del params['intercept']\n",
      "\n",
      "print(\"Positive features\")\n",
      "params.sort(ascending=False)\n",
      "print np.exp(params[[param > 0.001 for param in params]]).sub(1)\n",
      "\n",
      "print(\"\\nDropped features\")\n",
      "print params[[param  == 0.0 for param in params]]\n",
      "\n",
      "print(\"\\nNegative features\")\n",
      "params.sort(ascending=True)\n",
      "print np.exp(params[[param < -0.001 for param in params]]).sub(1)\n"
     ],
     "language": "python",
     "metadata": {},
     "outputs": [
      {
       "output_type": "stream",
       "stream": "stdout",
       "text": [
        "Positive features\n",
        "is_home                  0.827905\n",
        "pass_70                  0.369666\n",
        "expected_goals           0.246307\n",
        "opp_op_corners           0.197882\n",
        "opp_bad_passes           0.163256\n",
        "opp_corners              0.127926\n",
        "opp_op_expected_goals    0.119702\n",
        "opp_op_pass_80           0.110310\n",
        "op_passes                0.094726\n",
        "opp_op_cards             0.085143\n",
        "opp_op_fouls             0.066646\n",
        "fouls                    0.064151\n",
        "pass_ratio               0.035948\n",
        "op_bad_passes            0.028285\n",
        "avg_goals                0.004404\n",
        "dtype: float64\n",
        "\n",
        "Dropped features\n",
        "goals_op_ratio        0\n",
        "passes                0\n",
        "opp_pass_op_ratio     0\n",
        "avg_points            0\n",
        "op_pass_70            0\n",
        "cards                 0\n",
        "pass_80               0\n",
        "shots                 0\n",
        "op_avg_goals          0\n",
        "op_shots              0\n",
        "shots_op_ratio        0\n",
        "opp_op_avg_goals      0\n",
        "opp_avg_points        0\n",
        "opp_op_pass_70        0\n",
        "opp_shots_op_ratio    0\n",
        "opp_goals_op_ratio    0\n",
        "opp_op_shots          0\n",
        "opp_shots             0\n",
        "opp_cards             0\n",
        "opp_passes            0\n",
        "pass_op_ratio         0\n",
        "opp_pass_80           0\n",
        "dtype: float64\n",
        "\n",
        "Negative features\n",
        "opp_pass_70          -0.269895\n",
        "opp_expected_goals   -0.197630\n",
        "op_corners           -0.165193\n",
        "bad_passes           -0.140344\n",
        "corners              -0.113417\n",
        "op_expected_goals    -0.106905\n",
        "op_pass_80           -0.099351\n",
        "opp_op_passes        -0.086530\n",
        "op_cards             -0.078462\n",
        "op_fouls             -0.062482\n",
        "opp_fouls            -0.060284\n",
        "opp_pass_ratio       -0.034701\n",
        "opp_op_bad_passes    -0.027507\n",
        "opp_avg_goals        -0.004385\n",
        "dtype: float64\n"
       ]
      }
     ],
     "prompt_number": 22
    },
    {
     "cell_type": "markdown",
     "metadata": {},
     "source": [
      "## Predicting wins in club data\n",
      "\n",
      "This cell uses the test set (which was not used during the creation of the model) to predict outcomes. We can a few of the predictions to see how well we did. We'll show 5 each from two buckets: cases where we got it right, and cases where we got it wrong. We can see if these make sense. When we display these, the home team is always on the left. \n",
      "\n",
      "For example, it might show that we predicted Manchester United playing at home beating Sunderland. This is completely reasonable and we'd expect that the outcome would be 3 points (a victory).\n",
      "\n",
      "The columns of the output are:\n",
      "\n",
      "* team_name: Home team\n",
      "* op_team_name: Away team\n",
      "* predicted: The percentage chance that we believe the home team will win.\n",
      "* points: What actually happenned. 3 points for a win, 1 point for a draw, 0 points for a loss."
     ]
    },
    {
     "cell_type": "code",
     "collapsed": false,
     "input": [
      "reload(world_cup)\n",
      "results = world_cup.predictModel(model, test, \n",
      "    match_stats.get_non_feature_columns())\n",
      "\n",
      "predictions = world_cup.extractPredictions(\n",
      "    results.copy(), results['predicted'])\n",
      "\n",
      "print 'Correct predictions:'\n",
      "print(predictions[(predictions['predicted'] > 50) & (predictions['points'] == 3)][:5])\n",
      "print '\\nIncorrect predictions:'\n",
      "print(predictions[(predictions['predicted'] > 50) & (predictions['points'] < 3)][:5])\n"
     ],
     "language": "python",
     "metadata": {},
     "outputs": [
      {
       "output_type": "stream",
       "stream": "stdout",
       "text": [
        "Correct predictions:\n",
        "               team_name        op_team_name  predicted  points\n",
        "1    Seattle Sounders FC         D.C. United  52.006526       3\n",
        "3   Sporting Kansas City      Houston Dynamo  63.535710       3\n",
        "15           D.C. United  Philadelphia Union  52.211200       3\n",
        "21         Celta de Vigo             Osasuna  71.380653       3\n",
        "23             Barcelona          Villarreal  84.648280       3\n",
        "\n",
        "Incorrect predictions:\n",
        "             team_name     op_team_name  predicted  points\n",
        "11  New York Red Bulls       Toronto FC  52.543905       0\n",
        "52       Real Sociedad          Almer\u00eda  51.701515       0\n",
        "69          Villarreal       Granada CF  54.188885       0\n",
        "72           Barcelona  Real Valladolid  89.955094       0\n",
        "73         Valencia CF   Rayo Vallecano  56.111594       0\n"
       ]
      }
     ],
     "prompt_number": 23
    },
    {
     "cell_type": "markdown",
     "metadata": {},
     "source": [
      "## Validating our predictions\n",
      "\n",
      "Next, we want to actually quantify how good our predictions are. We can compute the lift (\"How much better are we doing than random chance?\"), AUC (the area under the ROC curve) and plot the ROC curve. AUC is arguable the most interesting number, it ranges between 0.5 (your model is no better than dumb luck) and 1.0 (perfect prediction)."
     ]
    },
    {
     "cell_type": "code",
     "collapsed": false,
     "input": [
      "import pylab as pl\n",
      "# Compute a baseline, which is the percentage of overall outcomes are actually wins.\n",
      "# (remember in soccer we can have draws too).\n",
      "baseline = (sum([yval == 3 for yval in club_data['points']]) \n",
      "            * 1.0 / len(club_data))\n",
      "y = [yval == 3 for yval in test['points']]\n",
      "world_cup.validate(3, y, results['predicted'], baseline, \n",
      "                   compute_auc=True)\n",
      "pl.show()"
     ],
     "language": "python",
     "metadata": {},
     "outputs": [
      {
       "output_type": "stream",
       "stream": "stdout",
       "text": [
        "(3) Lift: 1.43 Auc: 0.737\n"
       ]
      },
      {
       "metadata": {},
       "output_type": "display_data",
       "png": "[encoded data removed]",
       "text": [
        "<matplotlib.figure.Figure at 0x63ecc50>"
       ]
      }
     ],
     "prompt_number": 24
    },
    {
     "cell_type": "markdown",
     "metadata": {},
     "source": [
      "# Need.... more .... power!\n",
      "\n",
      "One thing that is missing, if you're predicting the next game based on the previous few games, is that some teams may have just played a really tough schedule, while other teams have played against much weaker competition.\n",
      "\n",
      "We can solve for schedule difficulty by running another regression; this one computes a power ranking, similar to the FIFA/CocaCola power ranking for international soccer teams (there are power rankings for other sports like college (american) football that may be familiar.)\n",
      "\n",
      "Once we compute the power ranking (which creates a stack ranking of all of the teams), we can add that power ranking as a feature to our model, then rebuild it and re-validate it. The regression essentailly automated the process of looking at relationships like \"Well, team A beat team B and team B beat team C, so A is probably better than C\".\n",
      "\n",
      "The output here will show the power ranking for various teams. This can be useful to spot check the ranking, since if we rank Wiggan at 1.0 and Chelsea at 0.0, something is likely wrong. \n",
      "\n",
      "Note that because there isn't a strict ordering to the data (if team A beats team B and team B beats team C, sometimes team C will then beat team A) we sometimes fail to assign ordering to all of the teams (especially where the data is sparse). For teams that we can't rank, we put them in the middle (0.5).\n",
      "\n",
      "Additionally, because the rankings for international teams are noisy and sparse, we chunk the rankings into quartiles. So teams that have been ranked will show up as 0, .33, .66, or 1.0.\n",
      "\n",
      "Once we add this to the model, the performance generally improves significantly."
     ]
    },
    {
     "cell_type": "code",
     "collapsed": false,
     "input": [
      "import power\n",
      "reload(power)\n",
      "power_cols = [\n",
      "  ('points', lambda p: p > 0, 'wins'),\n",
      "]\n",
      "\n",
      "power_data = power.add_power(club_data, game_summaries, power_cols)\n",
      "power_train = power_data.loc[power_data['points'] <> 1] \n",
      "# power_train = power_data\n",
      "(power_model, power_test) = world_cup.trainModel(\n",
      "    power_train, match_stats.get_non_feature_columns())\n",
      "print \"\\nRsquared: %0.03g, Power Coef %0.03g\" % (power_model.prsquared, \n",
      "                                                 math.exp(power_model.params['power_wins']))\n",
      "\n",
      "power_results = world_cup.predictModel(power_model, power_test, \n",
      "    match_stats.get_non_feature_columns())\n",
      "power_y = [yval == 3 for yval in power_test['points']]\n",
      "world_cup.validate(3, power_y, power_results['predicted'], baseline, \n",
      "                   compute_auc=True)\n",
      "\n",
      "pl.plot([0, 1], [0, 1], '--', color=(0.6, 0.6, 0.6), label='Luck')\n",
      "# Add the old model to the graph\n",
      "world_cup.validate('old', y, results['predicted'], baseline, \n",
      "                   compute_auc=True)\n",
      "pl.legend(loc=\"lower right\")\n",
      "pl.show()"
     ],
     "language": "python",
     "metadata": {},
     "outputs": [
      {
       "output_type": "stream",
       "stream": "stdout",
       "text": [
        "New season 2014\n",
        "New season 2013"
       ]
      },
      {
       "output_type": "stream",
       "stream": "stdout",
       "text": [
        "\n",
        "QC check did not pass for 8 out of 20 parameters\n",
        "Try increasing solver accuracy or number of iterations, decreasing alpha, or switch solvers"
       ]
      },
      {
       "output_type": "stream",
       "stream": "stdout",
       "text": [
        "\n",
        "Could not trim params automatically due to failed QC check.  Trimming using trim_mode == 'size' will still work.\n",
        "New season 2013"
       ]
      },
      {
       "output_type": "stream",
       "stream": "stdout",
       "text": [
        "\n",
        "New season 2012"
       ]
      },
      {
       "output_type": "stream",
       "stream": "stdout",
       "text": [
        "\n",
        "QC check did not pass for 15 out of 24 parameters\n",
        "Try increasing solver accuracy or number of iterations, decreasing alpha, or switch solvers"
       ]
      },
      {
       "output_type": "stream",
       "stream": "stdout",
       "text": [
        "\n",
        "Could not trim params automatically due to failed QC check.  Trimming using trim_mode == 'size' will still work.\n",
        "New season 2012"
       ]
      },
      {
       "output_type": "stream",
       "stream": "stdout",
       "text": [
        "\n",
        "New season 2011"
       ]
      },
      {
       "output_type": "stream",
       "stream": "stdout",
       "text": [
        "\n",
        "QC check did not pass for 8 out of 24 parameters\n",
        "Try increasing solver accuracy or number of iterations, decreasing alpha, or switch solvers"
       ]
      },
      {
       "output_type": "stream",
       "stream": "stdout",
       "text": [
        "\n",
        "Could not trim params automatically due to failed QC check.  Trimming using trim_mode == 'size' will still work.\n",
        "[u'Elche: 0.000', u'Montreal Impact: 0.000', u'Osasuna: 0.000', u'Chivas USA: 0.000', u'Reading: 0.000', u'Mallorca: 0.000', u'Bolton Wanderers: 0.000', u'Real Zaragoza: 0.000', u'Toronto FC: 0.000', u'Columbus Crew: 0.000', u'Queens Park Rangers: 0.000', u'Blackburn Rovers: 0.000', u'Real Betis: 0.000', u'D.C. United: 0.000', u'Wigan Athletic: 0.000', u'Wolverhampton Wanderers: 0.000', u'Deportivo de La Coru\\xf1a: 0.000', u'Chicago Fire: 0.330', u'New York Red Bulls: 0.330', u'Aston Villa: 0.330', u'Swansea City: 0.330', u'Granada CF: 0.330', u'Getafe: 0.330', u'Fulham: 0.330', u'Espanyol: 0.330', u'Rayo Vallecano: 0.330', u'Norwich City: 0.330', u'New England Revolution: 0.330', u'Almer\\xeda: 0.330', u'San Jose Earthquakes: 0.330', u'Sunderland: 0.330', u'Sporting Kansas City: 0.660', u'FC Dallas: 0.660', u'Celta de Vigo: 0.660', u'West Ham United: 0.660', u'Valencia: 0.660', u'Valencia CF: 0.660', u'Portland Timbers: 0.660', u'Stoke City: 0.660', u'Villarreal: 0.660', u'Real Valladolid: 0.660', u'Philadelphia Union: 0.660', u'Everton: 0.660', u'Houston Dynamo: 0.660', u'Southampton: 0.660', u'Newcastle United: 0.660', u'M\\xe1laga: 0.660', u'Levante: 0.660', u'West Bromwich Albion: 0.660', u'Real Madrid: 1.000', u'Tottenham Hotspur: 1.000', u'Manchester United: 1.000', u'Athletic Club: 1.000', u'Chelsea: 1.000', u'Manchester City: 1.000', u'Colorado Rapids: 1.000', u'Atl\\xe9tico de Madrid: 1.000', u'Real Sociedad: 1.000', u'Barcelona: 1.000', u'Liverpool: 1.000', u'Real Salt Lake: 1.000', u'Sevilla: 1.000', u'Arsenal: 1.000', u'Vancouver Whitecaps: 1.000', u'Seattle Sounders FC: 1.000', u'LA Galaxy: 1.000']"
       ]
      },
      {
       "output_type": "stream",
       "stream": "stdout",
       "text": [
        "\n",
        "\n",
        "Rsquared: 0.162, Power Coef 1.42"
       ]
      },
      {
       "output_type": "stream",
       "stream": "stdout",
       "text": [
        "\n",
        "(3) Lift: 1.58 Auc: 0.806"
       ]
      },
      {
       "output_type": "stream",
       "stream": "stdout",
       "text": [
        "\n",
        "(old) Lift: 1.43 Auc: 0.737\n"
       ]
      }
     ],
     "prompt_number": 25
    },
    {
     "cell_type": "markdown",
     "metadata": {},
     "source": [
      "## On to the world cup!\n",
      "\n",
      "Now that we've got a model that we like, let's look at predicting the world cup. We can build the same statistics (features) for the world cup games that we did for the club games. In this case, however, we don't have the targets; that is, we don't know who won (for some of the previous games, we do know who won, but let's predict them all equally as if we didn't know).\n",
      "\n",
      "features.get_wc_features() will return build features from the world cup games."
     ]
    },
    {
     "cell_type": "code",
     "collapsed": true,
     "input": [
      "import world_cup\n",
      "import features\n",
      "reload(match_stats)\n",
      "reload(features)\n",
      "\n",
      "wc_history_size = 5\n",
      "wc_data = world_cup.prepareData(features.get_wc_features(wc_history_size))\n",
      "wc_labeled = world_cup.prepareData(features.get_features(wc_history_size))\n",
      "wc_labeled = wc_labeled[wc_labeled['competitionid'] == 4]\n",
      "\n",
      "\n",
      "wc_power_train = game_summaries[game_summaries['competitionid'] == 4].copy()\n"
     ],
     "language": "python",
     "metadata": {},
     "outputs": []
    },
    {
     "cell_type": "markdown",
     "metadata": {},
     "source": [
      "## Predicting the world cup\n",
      "\n",
      "Once we have the model and the features, we can start predicting.\n",
      "\n",
      "### Home Team Advantage\n",
      "There are a couple of differences between the world cup and club data. For one, while home team advantage is important in club games, who is really at home? Is it only Brazil? What about other south american teams? Some models give the 'is home' status to only Brazil, others give partial status to other teams from the same continent, since historical data shows that teams from the same continent tend to outperform.\n",
      "\n",
      "We use a slightly modified model that is, however, somewhat subjective. We assing a value to is_home between 0.0 to 1.0 depending on the fan support (both numbers and enthusiasm) that a team enjoys. This is a result of noticing, in the early rounds, that the teams that had the more entusiastic supporters did better. For example, Chile's fans were deafining in support of their team, but Spain's fans barely showed up (Chile upset spain 2-0). There were a number of other cases like this; many involving south american sides, but many involving other teams that had sent a lot of supporters (Mexico, for example). Some teams, like the USA, had a lot of fans, but they were more reserved... they got a lower score. This factor was set based on first-hand reports from the group games.\n"
     ]
    },
    {
     "cell_type": "code",
     "collapsed": false,
     "input": [
      "import pandas as pd\n",
      "wc_home = pd.read_csv('wc_home.csv')\n",
      "\n",
      "def add_home_override(df, home_map):\n",
      "  for ii in xrange(len(df)):\n",
      "    team = df.iloc[ii]['teamid']\n",
      "    if team in home_map:\n",
      "        df['is_home'].iloc[ii] = home_map[team]\n",
      "    else:\n",
      "        # If we don't know, assume not at home.\n",
      "        df['is_home'].iloc[ii] = 0.0\n",
      "        \n",
      "home_override = {}\n",
      "for ii in xrange(len(wc_home)):\n",
      "    row = wc_home.iloc[ii]\n",
      "    home_override[row['teamid']] = row['is_home']\n",
      "\n",
      "\n",
      "# Add home team overrides.\n",
      "add_home_override(wc_data, home_override)    "
     ],
     "language": "python",
     "metadata": {},
     "outputs": []
    },
    {
     "cell_type": "markdown",
     "metadata": {},
     "source": [
      "### World Cup Power Rankings\n",
      "\n",
      "The lattice of teams playing eachother in the world cup is pretty sparese. Many teams haven't played eachother for decades. Many European teams rarely play South American ones, and even more rarely play Asian ones. We can use the same technique as we did for the club games, but we have to be prepared for failure.\n",
      "\n",
      "We'll output the power rankings from the previous games. We should eyeball them to make sure they make sense."
     ]
    },
    {
     "cell_type": "code",
     "collapsed": false,
     "input": [
      "reload(power)\n",
      "# When training power data, since the games span multiple competitions, just set is_home to 0.5\n",
      "# Otherwise when we looked at games from the 2010 world cup, we'd think Brazil was still at\n",
      "# home instead of South Africa.\n",
      "wc_power_train['is_home'] = 0.5\n",
      "wc_power_data = power.addPower(wc_data, wc_power_train, power_cols)\n",
      "# Weaken the power factor since we don't have very much data. We rescale it from .25 \n",
      "# through .75.\n",
      "wc_power_data['power_wins'] = wc_power_data['power_wins'].add(0.5)\n",
      "wc_power_data['power_wins'] = wc_power_data['power_wins'].div(2.0)\n",
      "\n",
      "wc_results = world_cup.predictModel(power_model, wc_power_data, \n",
      "    match_stats.get_non_feature_columns())"
     ],
     "language": "python",
     "metadata": {},
     "outputs": []
    },
    {
     "cell_type": "markdown",
     "metadata": {},
     "source": [
      "### Predicting games\n",
      "\n",
      "Now's the moment we've been waiting for. Let's predict some world cup games. Let's start with predicting the ones that have already happenned.\n",
      "\n",
      "We will output 4 columns:\n",
      "\n",
      "* team_name: Team we're predicting\n",
      "* op_team_name: Team that the team we're predicting is playing against\n",
      "* predicted: Precentage chance (we believe) that the team will win.\n",
      "* points: If the game has been played, what actually happenned. (if the game hasn't been played, we'll show a NaN here). 3 points is a win, 1 point is a draw, 0 points is a loss. Note that for games in the knockout phase that went into penalty kicks, we'll mark that as a draw.\n",
      "\n",
      "*But wait! These predictions are different from the ones you published!*\n",
      "\n",
      "There are three reasons why the prediction numbers might be different from the numbers you may have seen as published predictions:\n",
      "\n",
      "1. We've updated our code several times to fix bugs and improve accuracy. Our original model, for example, didn't account for extra time causing inflated statistics.\n",
      "1. Model building is non-deterministic. Since we pick a random subset of the data to use as our training set, the results will change from run to run. Sometimes fairly significantly.\n",
      "1. When we predicted the round of 16, we used the trailing 3 games to predict (since each team had played 3 games in the current world cup). For the quarterfinals, we used the trailing 4 games; for the semis, 5, and for the finals, we used all 6. The code below will predict based on the last 6 games; for many teams, we don't have 6 games of history, and even if we do, that history will be from previous world cups. To see a more apples-to-apples comparison, set the lookup history size to 3.\n"
     ]
    },
    {
     "cell_type": "code",
     "collapsed": false,
     "input": [
      "pd.set_option('display.max_rows', 5000)\n",
      "pd.set_option('display.max_columns', 500)\n",
      "pd.set_option('display.width', 1000)\n",
      "\n",
      "wc_with_points = wc_power_data.copy()\n",
      "wc_with_points.index = pd.Index(zip(wc_with_points['matchid'], wc_with_points['teamid']))\n",
      "wc_labeled.index = pd.Index(zip(wc_labeled['matchid'], wc_labeled['teamid']))\n",
      "wc_with_points['points'] = wc_labeled['points']\n",
      "wc_pred = world_cup.extractPredictions(wc_with_points, \n",
      "                                       wc_results['predicted'])\n",
      "\n",
      "# Reverse our predictions to show the most recent first.\n",
      "wc_pred.reindex(index=wc_pred.index[::-1])\n",
      "# Show our predictions for the games that have already happenned.\n",
      "wc_pred[wc_pred['points'] >= 0.0]"
     ],
     "language": "python",
     "metadata": {},
     "outputs": [
      {
       "ename": "NameError",
       "evalue": "name 'pd' is not defined",
       "output_type": "pyerr",
       "traceback": [
        "\u001b[0;31m---------------------------------------------------------------------------\u001b[0m\n\u001b[0;31mNameError\u001b[0m                                 Traceback (most recent call last)",
        "\u001b[0;32m<ipython-input-3-c8ef202815d7>\u001b[0m in \u001b[0;36m<module>\u001b[0;34m()\u001b[0m\n\u001b[0;32m----> 1\u001b[0;31m \u001b[0mpd\u001b[0m\u001b[0;34m.\u001b[0m\u001b[0mset_option\u001b[0m\u001b[0;34m(\u001b[0m\u001b[0;34m'display.max_rows'\u001b[0m\u001b[0;34m,\u001b[0m \u001b[0;36m5000\u001b[0m\u001b[0;34m)\u001b[0m\u001b[0;34m\u001b[0m\u001b[0m\n\u001b[0m\u001b[1;32m      2\u001b[0m \u001b[0mpd\u001b[0m\u001b[0;34m.\u001b[0m\u001b[0mset_option\u001b[0m\u001b[0;34m(\u001b[0m\u001b[0;34m'display.max_columns'\u001b[0m\u001b[0;34m,\u001b[0m \u001b[0;36m500\u001b[0m\u001b[0;34m)\u001b[0m\u001b[0;34m\u001b[0m\u001b[0m\n\u001b[1;32m      3\u001b[0m \u001b[0mpd\u001b[0m\u001b[0;34m.\u001b[0m\u001b[0mset_option\u001b[0m\u001b[0;34m(\u001b[0m\u001b[0;34m'display.width'\u001b[0m\u001b[0;34m,\u001b[0m \u001b[0;36m1000\u001b[0m\u001b[0;34m)\u001b[0m\u001b[0;34m\u001b[0m\u001b[0m\n\u001b[1;32m      4\u001b[0m \u001b[0;34m\u001b[0m\u001b[0m\n\u001b[1;32m      5\u001b[0m \u001b[0mwc_with_points\u001b[0m \u001b[0;34m=\u001b[0m \u001b[0mwc_power_data\u001b[0m\u001b[0;34m.\u001b[0m\u001b[0mcopy\u001b[0m\u001b[0;34m(\u001b[0m\u001b[0;34m)\u001b[0m\u001b[0;34m\u001b[0m\u001b[0m\n",
        "\u001b[0;31mNameError\u001b[0m: name 'pd' is not defined"
       ]
      }
     ],
     "prompt_number": 3
    },
    {
     "cell_type": "markdown",
     "metadata": {},
     "source": [
      "Let's look at the stats for the teams in the final. We can compare them by eyeball to see which one we think will win:\n",
      "TODO(tigani): Update these with the teams in the final."
     ]
    },
    {
     "cell_type": "code",
     "collapsed": false,
     "input": [
      "wc_power_data[wc_power_data['matchid'] == '731830']\n"
     ],
     "language": "python",
     "metadata": {},
     "outputs": []
    },
    {
     "cell_type": "markdown",
     "metadata": {},
     "source": [
      "Now let's look at the games that made up the decisions:"
     ]
    },
    {
     "cell_type": "code",
     "collapsed": false,
     "input": [
      "\n",
      "op = game_summaries\n",
      "\n",
      "def countryStats(d, name):\n",
      "  pred = d['team_name'] == name\n",
      "  return d[pred]\n",
      "\n",
      "fr = countryStats(op, 'France')\n",
      "ge = countryStats(op, 'Germany')\n",
      "ar = countryStats(op, 'Argentina')\n",
      "br = countryStats(op, 'Brazil')\n",
      "ne = countryStats(op, 'Netherlands')\n",
      "ge[-6:]"
     ],
     "language": "python",
     "metadata": {},
     "outputs": []
    },
    {
     "cell_type": "markdown",
     "metadata": {},
     "source": [
      "OK now that we've looked at the data every which way possible, let's predict the final results:"
     ]
    },
    {
     "cell_type": "code",
     "collapsed": false,
     "input": [
      "wc_pred[~(wc_pred['points'] >= 0)]"
     ],
     "language": "python",
     "metadata": {},
     "outputs": []
    }
   ],
   "metadata": {}
  }
 ]
}