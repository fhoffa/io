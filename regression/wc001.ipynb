{
 "metadata": {
  "name": "",
  "signature": "sha256:1b173619f6cab58e0242859859cc9abdbb7f58442383511ab5657765d721b2e1"
 },
 "nbformat": 3,
 "nbformat_minor": 0,
 "worksheets": [
  {
   "cells": [
    {
     "cell_type": "code",
     "collapsed": false,
     "input": [
      "reload(world_cup)\n",
      "reload(features)\n",
      "\n",
      "import features\n",
      "import world_cup\n",
      "\n",
      "# print features.history_query\n",
      "data = features.get_features()\n",
      "# print data.columns\n",
      "import pylab as pl\n",
      "# print data.std()\n",
      "# print data.head()\n",
      "data = world_cup.prepare_data(data)\n",
      "\n",
      "not_train_cols = ['teamid', 'op_teamid', 'matchid',\n",
      "                  'goals', 'op_goals', 'points', 'timestamp', 'team_name', 'op_team_name']\n",
      "train_cols = [col for col in data.columns if col not in not_train_cols]\n",
      "data[train_cols].hist()\n",
      "# pl.show()\n",
      "\n",
      "# world_cup.runSimple(data, not_train_cols)\n",
      "# world_cup.runTeam(data, not_train_cols, 'goals')\n",
      "# world_cup.runGame(data, not_train_cols, 'points')\n",
      "world_cup.runGameNoDraw(data, not_train_cols, 'points')"
     ],
     "language": "python",
     "metadata": {},
     "outputs": [
      {
       "output_type": "stream",
       "stream": "stdout",
       "text": [
        "\r",
        "Waiting on bqjob_r2ba55a162eb8acc0_0000014655f749f3_25 ... (0s) Current status: DONE   \n",
        "Features: Index([u'is_home', u'total_points', u'home_passes', u'home_goals', u'home_shots', u'op_home_passes', u'op_home_goals', u'op_home_shots', u'op_away_passes', u'op_away_goals', u'op_away_shots', u'pass_70', u'pass_80', u'op_pass_70', u'op_pass_80', u'passes', u'bad_passes', u'pass_ratio', u'corners', u'fouls', u'cards', u'shots', u'op_passes', u'op_bad_passes', u'op_corners', u'op_fouls', u'op_cards', u'op_shots', u'goals_op_ratio', u'shots_op_ratio', u'pass_op_ratio', u'intercept'], dtype='object')"
       ]
      },
      {
       "output_type": "stream",
       "stream": "stdout",
       "text": [
        "\n",
        "Optimization terminated successfully.\n",
        "         Current function value: 0.599327\n",
        "         Iterations 6\n",
        "points: 3:                            Logit Regression Results                           \n",
        "==============================================================================\n",
        "Dep. Variable:                      y   No. Observations:                  588\n",
        "Model:                          Logit   Df Residuals:                      556\n",
        "Method:                           MLE   Df Model:                           31\n",
        "Date:                Sat, 31 May 2014   Pseudo R-squ.:                  0.1354\n",
        "Time:                        22:46:57   Log-Likelihood:                -352.40\n",
        "converged:                       True   LL-Null:                       -407.57\n",
        "                                        LLR p-value:                 7.942e-11\n",
        "==================================================================================\n",
        "                     coef    std err          z      P>|z|      [95.0% Conf. Int.]\n",
        "----------------------------------------------------------------------------------\n",
        "is_home            0.9175      0.209      4.389      0.000         0.508     1.327\n",
        "total_points       0.0362      0.046      0.785      0.433        -0.054     0.126\n",
        "home_passes       -0.0003      0.000     -0.857      0.391        -0.001     0.000\n",
        "home_goals        -0.0695      0.059     -1.182      0.237        -0.185     0.046\n",
        "home_shots        -0.0007      0.007     -0.094      0.925        -0.015     0.013\n",
        "op_home_passes     0.0033      0.006      0.583      0.560        -0.008     0.014\n",
        "op_home_goals      0.0851      0.051      1.652      0.099        -0.016     0.186\n",
        "op_home_shots     -0.0713      0.140     -0.509      0.611        -0.346     0.203\n",
        "op_away_passes     0.0035      0.006      0.616      0.538        -0.008     0.015\n",
        "op_away_goals      0.0053      0.044      0.119      0.905        -0.081     0.091\n",
        "op_away_shots     -0.0898      0.142     -0.633      0.527        -0.368     0.188\n",
        "pass_70            0.0173      0.011      1.598      0.110        -0.004     0.039\n",
        "pass_80           -0.0138      0.025     -0.549      0.583        -0.063     0.035\n",
        "op_pass_70         0.0033      0.012      0.281      0.779        -0.020     0.026\n",
        "op_pass_80         0.0017      0.027      0.064      0.949        -0.051     0.055\n",
        "passes             0.0057      0.004      1.580      0.114        -0.001     0.013\n",
        "bad_passes        -0.0011      0.013     -0.089      0.929        -0.026     0.024\n",
        "pass_ratio       -11.7692     15.892     -0.741      0.459       -42.917    19.378\n",
        "corners            0.0346      0.060      0.580      0.562        -0.082     0.151\n",
        "fouls              0.0359      0.039      0.911      0.362        -0.041     0.113\n",
        "cards              0.1611      0.126      1.276      0.202        -0.086     0.409\n",
        "shots              0.0622      0.048      1.300      0.194        -0.032     0.156\n",
        "op_passes         -0.0241      0.045     -0.531      0.595        -0.113     0.065\n",
        "op_bad_passes     -0.0116      0.013     -0.927      0.354        -0.036     0.013\n",
        "op_corners         0.0767      0.054      1.407      0.159        -0.030     0.183\n",
        "op_fouls           0.0521      0.044      1.181      0.237        -0.034     0.139\n",
        "op_cards          -0.1492      0.123     -1.211      0.226        -0.391     0.092\n",
        "op_shots           0.5946      1.131      0.526      0.599        -1.622     2.811\n",
        "goals_op_ratio     0.3001      0.509      0.590      0.555        -0.697     1.297\n",
        "shots_op_ratio     0.0596      0.233      0.256      0.798        -0.396     0.515\n",
        "pass_op_ratio     -0.1331      8.071     -0.016      0.987       -15.952    15.686\n",
        "intercept         -0.2834     10.277     -0.028      0.978       -20.427    19.860\n",
        "=================================================================================="
       ]
      },
      {
       "output_type": "stream",
       "stream": "stdout",
       "text": [
        "\n",
        "Count: 498 / Baseline 0.380734\n",
        "(3) Base: 0.380734 Acc: 0.645594 P(1|t): 0.547739 P(0|f): 0.705882 Lift: 1.40157 Auc: 0.669703415958\n",
        "Fp/Fn/Tp/Tn p/n/c: 90/95/109/228 204/318/522\n",
        "(w) Base: 1.13027 Acc: 0.628352 P(1|t): 0.615385 P(0|f): 0.638889 Lift: 1.29529 Auc: NA"
       ]
      },
      {
       "output_type": "stream",
       "stream": "stdout",
       "text": [
        "\n",
        "Fp/Fn/Tp/Tn p/n/c: 45/52/72/92 124/137/261\n",
        "(d) Base: 0.597701 Acc: 0.643678 P(1|t): 0.209677 P(0|f): 0.778894 Lift: 0.960102 Auc: NA\n",
        "Fp/Fn/Tp/Tn p/n/c: 49/44/13/155 57/204/261\n",
        "(l) Base: 0.777778 Acc: 0.678161 P(1|t): 0.47561 P(0|f): 0.77095 Lift: 1.55168 Auc: NA\n",
        "Fp/Fn/Tp/Tn p/n/c: 43/41/39/138 80/181/261\n",
        "W/L/D 295/203/156\n",
        "[('Arsenal', 'Queens Park Rangers', '442079', 1, 0.52633304035660156), ('Queens Park Rangers', 'Arsenal', '442079', 0, 0.19172207513969519), ('Chelsea', 'Manchester United', '442081', 1, 0.5155804486950385), ('Manchester United', 'Chelsea', '442081', 0, 0.38976918720615344), ('Manchester City', 'Swansea City', '442083', 1, 0.60691686623536345), ('Swansea City', 'Manchester City', '442083', 0, 0.27736942548648025), ('Newcastle United', 'West Bromwich Albion', '442084', 1, 0.14075670194170462), ('West Bromwich Albion', 'Newcastle United', '442084', 0, 0.27352728280047062), ('Southampton', 'Tottenham Hotspur', '442086', 1, 0.73251770100988289), ('Tottenham Hotspur', 'Southampton', '442086', 0, 0.70190259460258309), ('Wigan Athletic', 'West Ham United', '442088', 1, 0.72573716326222604), ('West Ham United', 'Wigan Athletic', '442088', 0, 0.32099751940935556), ('Manchester United', 'Arsenal', '442091', 1, 0.4204448193144924), ('Arsenal', 'Manchester United', '442091', 0, 0.40779596358157344), ('Aston Villa', 'Manchester United', '442100', 1, 0.87912037731373516), ('Manchester United', 'Aston Villa', '442100', 0, 0.095866334489571395), ('Newcastle United', 'West Ham United', '442104', 1, 0.9354635015716064), ('West Ham United', 'Newcastle United', '442104', 0, 0.46932591213455987), ('Stoke City', 'Queens Park Rangers', '442107', 1, 0.51767766282388461), ('Queens Park Rangers', 'Stoke City', '442107', 0, 0.59921695865927815), ('Wigan Athletic', 'West Bromwich Albion', '442108', 1, 0.89361149846165977), ('West Bromwich Albion', 'Wigan Athletic', '442108', 0, 0.4112724866547206), ('Manchester City', 'Aston Villa', '442112', 1, 0.7276056775918518), ('Aston Villa', 'Manchester City', '442112', 0, 0.09148646277489253), ('Newcastle United', 'Swansea City', '442113', 1, 0.74858573103199411), ('Swansea City', 'Newcastle United', '442113', 0, 0.33573769387472502), ('Queens Park Rangers', 'Southampton', '442115', 1, 0.62378512995431323), ('Southampton', 'Queens Park Rangers', '442115', 0, 0.71686611470719719), ('Reading', 'Everton', '442116', 1, 0.60109350969784081), ('Everton', 'Reading', '442116', 0, 0.70506280504589192), ('Manchester United', 'Queens Park Rangers', '442122', 1, 0.87605765237662214), ('Queens Park Rangers', 'Manchester United', '442122', 0, 0.39964244144023164), ('Southampton', 'Newcastle United', '442123', 1, 0.52646387434847053), ('Newcastle United', 'Southampton', '442123', 0, 0.60944810129555127), ('Stoke City', 'Fulham', '442124', 1, 0.42888267347064846), ('Fulham', 'Stoke City', '442124', 0, 0.17128002993313249), ('Sunderland', 'West Bromwich Albion', '442125', 1, 0.90289431318692603), ('West Bromwich Albion', 'Sunderland', '442125', 0, 0.39476993238913666), ('Wigan Athletic', 'Reading', '442128', 1, 0.64421411225313863), ('Reading', 'Wigan Athletic', '442128', 0, 0.83631126119458565), ('Stoke City', 'Newcastle United', '442132', 1, 0.83059968174217047), ('Newcastle United', 'Stoke City', '442132', 0, 0.42605325055776544), ('Swansea City', 'West Bromwich Albion', '442134', 1, 0.61983311598528301), ('West Bromwich Albion', 'Swansea City', '442134', 0, 0.36836553768869379), ('Tottenham Hotspur', 'Liverpool', '442135', 1, 0.65079948499838169), ('Liverpool', 'Tottenham Hotspur', '442135', 0, 0.46997284199041856), ('Reading', 'Manchester United', '442146', 1, 0.89843593665317745), ('Manchester United', 'Reading', '442146', 0, 0.68120454260759455), ('Arsenal', 'West Bromwich Albion', '442149', 1, 0.35688473111630548), ('West Bromwich Albion', 'Arsenal', '442149', 0, 0.42816765687565012), ('Everton', 'Tottenham Hotspur', '442151', 1, 0.47921065711717048), ('Tottenham Hotspur', 'Everton', '442151', 0, 0.20028848321696971), ('Fulham', 'Newcastle United', '442152', 1, 0.59721198853950319), ('Newcastle United', 'Fulham', '442152', 0, 0.19700441181544875), ('West Ham United', 'Liverpool', '442157', 1, 0.80469382491668429), ('Liverpool', 'West Ham United', '442157', 0, 0.2762544211758966), ('Liverpool', 'Aston Villa', '442160', 1, 0.44538593314796737), ('Aston Villa', 'Liverpool', '442160', 0, 0.7249089878841195), ('Manchester United', 'Sunderland', '442161', 1, 0.41439403757956927), ('Sunderland', 'Manchester United', '442161', 0, 0.28104958471685015), ('Newcastle United', 'Manchester City', '442162', 1, 0.90779423546377158), ('Manchester City', 'Newcastle United', '442162', 0, 0.73568300908189077), ('Queens Park Rangers', 'Fulham', '442164', 1, 0.48950719838994372), ('Fulham', 'Queens Park Rangers', '442164', 0, 0.18450483750439606), ('Liverpool', 'Fulham', '442170', 1, 0.51106473281929476), ('Fulham', 'Liverpool', '442170', 0, 0.6753911352293277), ('Manchester City', 'Reading', '442171', 1, 0.73938804901995503), ('Reading', 'Manchester City', '442171', 0, 0.30640825797095467), ('Newcastle United', 'Queens Park Rangers', '442172', 1, 0.64013861059903354), ('Queens Park Rangers', 'Newcastle United', '442172', 0, 0.39315813594198296), ('West Bromwich Albion', 'Norwich City', '442176', 1, 0.8903550887728352), ('Norwich City', 'West Bromwich Albion', '442176', 0, 0.10122780281771583), ('West Ham United', 'Everton', '442177', 1, 0.42806494037480902), ('Everton', 'West Ham United', '442177', 0, 0.46442922614408499), ('Wigan Athletic', 'Arsenal', '442178', 1, 0.2490560519718569), ('Arsenal', 'Wigan Athletic', '442178', 0, 0.6596041240404551), ('Aston Villa', 'Tottenham Hotspur', '442180', 1, 0.49591864171512234), ('Tottenham Hotspur', 'Aston Villa', '442180', 0, 0.56261129645498387), ('Manchester United', 'Newcastle United', '442183', 1, 0.55822620458350591), ('Newcastle United', 'Manchester United', '442183', 0, 0.2615742190094546), ('Norwich City', 'Chelsea', '442184', 1, 0.91797328294688962), ('Chelsea', 'Norwich City', '442184', 0, 0.16066971821883383), ('Queens Park Rangers', 'West Bromwich Albion', '442185', 1, 0.54381166448586871), ('West Bromwich Albion', 'Queens Park Rangers', '442185', 0, 0.41702592626060281), ('Stoke City', 'Liverpool', '442187', 1, 0.79223911125479507), ('Liverpool', 'Stoke City', '442187', 0, 0.40726384310761132), ('Aston Villa', 'Wigan Athletic', '442190', 1, 0.68198346707080904), ('Wigan Athletic', 'Aston Villa', '442190', 0, 0.32406901477956618), ('Everton', 'Chelsea', '442191', 1, 0.70129722650903081), ('Chelsea', 'Everton', '442191', 0, 0.84516722682446954), ('Fulham', 'Swansea City', '442192', 1, 0.86847617871224703), ('Swansea City', 'Fulham', '442192', 0, 0.24284033846510369), ('Manchester United', 'West Bromwich Albion', '442193', 1, 0.5224506563149881), ('West Bromwich Albion', 'Manchester United', '442193', 0, 0.90247528419125367), ('Reading', 'West Ham United', '442196', 1, 0.54995275769698648), ('West Ham United', 'Reading', '442196', 0, 0.62564024023215692), ('Chelsea', 'Queens Park Rangers', '442199', 1, 0.4753171280663277), ('Queens Park Rangers', 'Chelsea', '442199', 0, 0.28783159609116105), ('Liverpool', 'Sunderland', '442200', 1, 0.7596854333735612), ('Sunderland', 'Liverpool', '442200', 0, 0.57071165810716962), ('Manchester City', 'Stoke City', '442201', 1, 0.35339871771229991), ('Stoke City', 'Manchester City', '442201', 0, 0.51293165552509279), ('West Bromwich Albion', 'Fulham', '442206', 1, 0.74379412622375074), ('Fulham', 'West Bromwich Albion', '442206', 0, 0.19127835935320139), ('West Ham United', 'Norwich City', '442207', 1, 0.82587414032552131), ('Norwich City', 'West Ham United', '442207', 0, 0.17282548148478086), ('Arsenal', 'Manchester City', '442209', 1, 0.55032752985251898), ('Manchester City', 'Arsenal', '442209', 0, 0.64606141873555023), ('Aston Villa', 'Southampton', '442210', 1, 0.83953819620852532), ('Southampton', 'Aston Villa', '442210', 0, 0.66553404822891227), ('Reading', 'West Bromwich Albion', '442216', 1, 0.60050593628940563), ('West Bromwich Albion', 'Reading', '442216', 0, 0.21888124694280983), ('Stoke City', 'Chelsea', '442217', 1, 0.85361492672250072), ('Chelsea', 'Stoke City', '442217', 0, 0.63994730420067003), ('Manchester City', 'Fulham', '442221', 1, 0.83882237183948394), ('Fulham', 'Manchester City', '442221', 0, 0.31741502454962756), ('Newcastle United', 'Reading', '442222', 1, 0.55794902553343584), ('Reading', 'Newcastle United', '442222', 0, 0.28257882826072367), ('Swansea City', 'Stoke City', '442224', 1, 0.73872849608421076), ('Stoke City', 'Swansea City', '442224', 0, 0.6189786333014714), ('Aston Villa', 'Newcastle United', '442230', 1, 0.51822652123061752), ('Newcastle United', 'Aston Villa', '442230', 0, 0.74628660858089479), ('Manchester United', 'Southampton', '442231', 1, 0.28418337969568236), ('Southampton', 'Manchester United', '442231', 0, 0.81096366943692577), ('Fulham', 'West Ham United', '442238', 1, 0.30433146483884904), ('West Ham United', 'Fulham', '442238', 0, 0.71441080373510202), ('Arsenal', 'Stoke City', '442239', 1, 0.46601610744647015), ('Stoke City', 'Arsenal', '442239', 0, 0.4427035712067493), ('Fulham', 'Manchester United', '442241', 1, 0.58850649472513683), ('Manchester United', 'Fulham', '442241', 0, 0.31770239149342006), ('Newcastle United', 'Chelsea', '442243', 1, 0.93637828543265667), ('Chelsea', 'Newcastle United', '442243', 0, 0.51449741621375766), ('West Bromwich Albion', 'Tottenham Hotspur', '442246', 1, 0.31824887302334326), ('Tottenham Hotspur', 'West Bromwich Albion', '442246', 0, 0.35587352999477856), ('West Ham United', 'Swansea City', '442247', 1, 0.36707009096915372), ('Swansea City', 'West Ham United', '442247', 0, 0.23952466847433013), ('Manchester United', 'Everton', '442252', 1, 0.62124454009319585), ('Everton', 'Manchester United', '442252', 0, 0.15748888077197912), ('Southampton', 'Manchester City', '442254', 1, 0.28752665397127264), ('Manchester City', 'Southampton', '442254', 0, 0.23049759209318987), ('Sunderland', 'Arsenal', '442256', 1, 0.81890145944537929), ('Arsenal', 'Sunderland', '442256', 0, 0.48435545581174738), ('Swansea City', 'Queens Park Rangers', '442257', 1, 0.74217117273617184), ('Queens Park Rangers', 'Swansea City', '442257', 0, 0.45221091799139934), ('Arsenal', 'Aston Villa', '442259', 1, 0.57207651662702219), ('Aston Villa', 'Arsenal', '442259', 0, 0.44547618141034706), ('Fulham', 'Stoke City', '442260', 1, 0.45075939587091435), ('Stoke City', 'Fulham', '442260', 0, 0.14100883343045501), ('Liverpool', 'Swansea City', '442261', 1, 0.91008920121782988), ('Swansea City', 'Liverpool', '442261', 0, 0.20092607536352727), ('Manchester City', 'Chelsea', '442262', 1, 0.60549803314798023), ('Chelsea', 'Manchester City', '442262', 0, 0.46628662259900133), ('Newcastle United', 'Southampton', '442263', 1, 0.41628583169016969), ('Southampton', 'Newcastle United', '442263', 0, 0.4315369656177746), ('Reading', 'Wigan Athletic', '442266', 1, 0.4065699892711529), ('Wigan Athletic', 'Reading', '442266', 0, 0.80986012664422624), ('West Bromwich Albion', 'Sunderland', '442267', 1, 0.67523539988946313), ('Sunderland', 'West Bromwich Albion', '442267', 0, 0.11138296813307252), ('Aston Villa', 'Manchester City', '442269', 1, 0.62900135265621759), ('Manchester City', 'Aston Villa', '442269', 0, 0.17462361832021492), ('Chelsea', 'West Bromwich Albion', '442270', 1, 0.41003989446293437), ('West Bromwich Albion', 'Chelsea', '442270', 0, 0.28201106148227667), ('Manchester United', 'Norwich City', '442272', 1, 0.32005777385415152), ('Norwich City', 'Manchester United', '442272', 0, 0.44940776204482907), ('Swansea City', 'Newcastle United', '442276', 1, 0.84081208611659231), ('Newcastle United', 'Swansea City', '442276', 0, 0.71545658510876986), ('Newcastle United', 'Stoke City', '442283', 1, 0.70478349915390193), ('Stoke City', 'Newcastle United', '442283', 0, 0.64588608955915305), ('Queens Park Rangers', 'Sunderland', '442285', 1, 0.34715200602979229), ('Sunderland', 'Queens Park Rangers', '442285', 0, 0.56011342627686345), ('Aston Villa', 'Queens Park Rangers', '442289', 1, 0.79889606511088829), ('Queens Park Rangers', 'Aston Villa', '442289', 0, 0.6576707359814753), ('Manchester United', 'Reading', '442292', 1, 0.86903763545129908), ('Reading', 'Manchester United', '442292', 0, 0.40082491784919355), ('Southampton', 'Liverpool', '442293', 1, 0.22720315796464483), ('Liverpool', 'Southampton', '442293', 0, 0.12989148737216019), ('Wigan Athletic', 'Newcastle United', '442298', 1, 0.70972573035046793), ('Newcastle United', 'Wigan Athletic', '442298', 0, 0.20541613720633153), ('Arsenal', 'Reading', '442299', 1, 0.75863936991871161), ('Reading', 'Arsenal', '442299', 0, 0.22849669634552947), ('Aston Villa', 'Liverpool', '442300', 1, 0.35397238890594895), ('Liverpool', 'Aston Villa', '442300', 0, 0.72252051963824282), ('Fulham', 'Queens Park Rangers', '442302', 1, 0.71354729950143936), ('Queens Park Rangers', 'Fulham', '442302', 0, 0.30850068868729813), ('Swansea City', 'Tottenham Hotspur', '442306', 1, 0.80395711152686544), ('Tottenham Hotspur', 'Swansea City', '442306', 0, 0.18917852887626707), ('Wigan Athletic', 'Norwich City', '442308', 1, 0.95592555421046455), ('Norwich City', 'Wigan Athletic', '442308', 0, 0.22763639960992144), ('Chelsea', 'Sunderland', '442309', 1, 0.73655174763614284), ('Sunderland', 'Chelsea', '442309', 0, 0.61660181777032885), ('Manchester United', 'Manchester City', '442311', 1, 0.4343081836000085), ('Manchester City', 'Manchester United', '442311', 0, 0.26591813800242403), ('Newcastle United', 'Fulham', '442312', 1, 0.42171948739687226), ('Fulham', 'Newcastle United', '442312', 0, 0.34715748064372282), ('Reading', 'Southampton', '442315', 1, 0.73785433737912709), ('Southampton', 'Reading', '442315', 0, 0.20138454661696334), ('Stoke City', 'Aston Villa', '442316', 1, 0.56465090962269382), ('Aston Villa', 'Stoke City', '442316', 0, 0.20926632733867723), ('West Bromwich Albion', 'Arsenal', '442318', 1, 0.79917714992567257), ('Arsenal', 'West Bromwich Albion', '442318', 0, 0.39004752834244594), ('Arsenal', 'Norwich City', '442319', 1, 0.70169854928277986), ('Norwich City', 'Arsenal', '442319', 0, 0.21130544963725365), ('Everton', 'Queens Park Rangers', '442322', 1, 0.36595098686197652), ('Queens Park Rangers', 'Everton', '442322', 0, 0.69578873758579718), ('Manchester City', 'West Bromwich Albion', '442323', 1, 0.53755553237285791), ('West Bromwich Albion', 'Manchester City', '442323', 0, 0.45499335150724451), ('Newcastle United', 'Sunderland', '442324', 1, 0.54538030694552364), ('Sunderland', 'Newcastle United', '442324', 0, 0.22316620038189611), ('Stoke City', 'Manchester United', '442327', 1, 0.52824308768343942), ('Manchester United', 'Stoke City', '442327', 0, 0.30550984599833358), ('Wigan Athletic', 'Swansea City', '442328', 1, 0.74929742221335616), ('Swansea City', 'Wigan Athletic', '442328', 0, 0.19258037646744264), ('Queens Park Rangers', 'Stoke City', '442333', 1, 0.43126909243724676), ('Stoke City', 'Queens Park Rangers', '442333', 0, 0.19259681096228065), ('Sunderland', 'Everton', '442334', 1, 0.69424964640836317), ('Everton', 'Sunderland', '442334', 0, 0.54333571034260708), ('Tottenham Hotspur', 'Manchester City', '442336', 1, 0.46354113675571457), ('Manchester City', 'Tottenham Hotspur', '442336', 0, 0.64523890682661744), ('West Ham United', 'Wigan Athletic', '442338', 1, 0.29501723149498882), ('Wigan Athletic', 'West Ham United', '442338', 0, 0.30446702370586282), ('Aston Villa', 'Sunderland', '442340', 1, 0.50935088100332848), ('Sunderland', 'Aston Villa', '442340', 0, 0.36563366096823635), ('Everton', 'Fulham', '442342', 1, 0.31224860335902993), ('Fulham', 'Everton', '442342', 0, 0.40141733851798411), ('Manchester City', 'West Ham United', '442343', 1, 0.34959505110195727), ('West Ham United', 'Manchester City', '442343', 0, 0.32095031131308999), ('Newcastle United', 'Liverpool', '442344', 1, 0.54732393408096258), ('Liverpool', 'Newcastle United', '442344', 0, 0.52138454825296521), ('Southampton', 'West Bromwich Albion', '442346', 1, 0.89030219397199928), ('West Bromwich Albion', 'Southampton', '442346', 0, 0.20681897771775642), ('Stoke City', 'Norwich City', '442347', 1, 0.89520481343914038), ('Norwich City', 'Stoke City', '442347', 0, 0.41557916107705095), ('Fulham', 'Reading', '442349', 1, 0.26386432930609027), ('Reading', 'Fulham', '442349', 0, 0.26378277142287943), ('Manchester United', 'Chelsea', '442351', 1, 0.63391427708671688), ('Chelsea', 'Manchester United', '442351', 0, 0.41742595552476813), ('Norwich City', 'Aston Villa', '442352', 1, 0.62135738859260659), ('Aston Villa', 'Norwich City', '442352', 0, 0.78316214241282744), ('Queens Park Rangers', 'Arsenal', '442353', 1, 0.53189731120878481), ('Arsenal', 'Queens Park Rangers', '442353', 0, 0.80232024722927231), ('Tottenham Hotspur', 'Southampton', '442356', 1, 0.6849953904411753), ('Southampton', 'Tottenham Hotspur', '442356', 0, 0.1937571341384835), ('West Bromwich Albion', 'Wigan Athletic', '442357', 1, 0.5663122021147361), ('Wigan Athletic', 'West Bromwich Albion', '442357', 0, 0.10579054558234191), ('Arsenal', 'Wigan Athletic', '442359', 1, 0.73724823170366827), ('Wigan Athletic', 'Arsenal', '442359', 0, 0.51101012589049832), ('Everton', 'West Ham United', '442361', 1, 0.5900586666685701), ('West Ham United', 'Everton', '442361', 0, 0.3246757926245914), ('Fulham', 'Liverpool', '442362', 1, 0.36419389034834726), ('Liverpool', 'Fulham', '442362', 0, 0.75720455646721796), ('Manchester United', 'Swansea City', '442363', 1, 0.72552032640539821), ('Swansea City', 'Manchester United', '442363', 0, 0.73057945314074746), ('Norwich City', 'West Bromwich Albion', '442364', 1, 0.64011806713754094), ('West Bromwich Albion', 'Norwich City', '442364', 0, 0.1248423976670051), ('Queens Park Rangers', 'Newcastle United', '442365', 1, 0.24440481479129683), ('Newcastle United', 'Queens Park Rangers', '442365', 0, 0.49397247691935253), ('Chelsea', 'Everton', '442369', 1, 0.90997234327905019), ('Everton', 'Chelsea', '442369', 0, 0.23942672742611873), ('Liverpool', 'Queens Park Rangers', '442370', 1, 0.5531709558579001), ('Queens Park Rangers', 'Liverpool', '442370', 0, 0.68647179093095267), ('Manchester City', 'Norwich City', '442371', 1, 0.4950784477718565), ('Norwich City', 'Manchester City', '442371', 0, 0.4766029834711436), ('Newcastle United', 'Arsenal', '442372', 1, 0.83604537028273906), ('Arsenal', 'Newcastle United', '442372', 0, 0.5827024231792518), ('Tottenham Hotspur', 'Sunderland', '442375', 1, 0.69576701423624121), ('Sunderland', 'Tottenham Hotspur', '442375', 0, 0.59552817214771947), ('West Bromwich Albion', 'Southampton', '694909', 1, 0.444985673104069), ('Southampton', 'West Bromwich Albion', '694909', 0, 0.73270194095874885), ('Chelsea', 'Aston Villa', '694922', 1, 0.88478744852252822), ('Aston Villa', 'Chelsea', '694922', 0, 0.16353332568966211), ('Liverpool', 'Manchester United', '694924', 1, 0.67084302243061444), ('Manchester United', 'Liverpool', '694924', 0, 0.78845532206945035), ('Newcastle United', 'Fulham', '694926', 1, 0.5208018638691867), ('Fulham', 'Newcastle United', '694926', 0, 0.70500386591855801), ('West Bromwich Albion', 'Swansea City', '694928', 1, 0.89475244641733698), ('Swansea City', 'West Bromwich Albion', '694928', 0, 0.57256435853630661), ('West Ham United', 'Stoke City', '694929', 1, 0.74941166985925334), ('Stoke City', 'West Ham United', '694929', 0, 0.58391984660135254), ('Arsenal', 'Tottenham Hotspur', '694930', 1, 0.54940282839127275), ('Tottenham Hotspur', 'Arsenal', '694930', 0, 0.77492158007776346), ('Aston Villa', 'Newcastle United', '694931', 1, 0.66415859586546189), ('Newcastle United', 'Aston Villa', '694931', 0, 0.39777981958804393), ('Everton', 'Chelsea', '694932', 1, 0.73936716417387216), ('Chelsea', 'Everton', '694932', 0, 0.22090671284231403), ('Sunderland', 'Arsenal', '694938', 1, 0.51485552979367211), ('Arsenal', 'Sunderland', '694938', 0, 0.24165623088752064), ('Tottenham Hotspur', 'Norwich City', '694940', 1, 0.63476047750685283), ('Norwich City', 'Tottenham Hotspur', '694940', 0, 0.4396024533617669), ('Chelsea', 'Fulham', '694942', 1, 0.83190685792035879), ('Fulham', 'Chelsea', '694942', 0, 0.20422540900867667), ('Liverpool', 'Southampton', '694944', 1, 0.42904011801441888), ('Southampton', 'Liverpool', '694944', 0, 0.52738575706844393), ('Manchester City', 'Manchester United', '694945', 1, 0.40874045136544529), ('Manchester United', 'Manchester City', '694945', 0, 0.39649590664597645), ('Norwich City', 'Aston Villa', '694947', 1, 0.82721185560144217), ('Aston Villa', 'Norwich City', '694947', 0, 0.50023360994090871), ('Everton', 'Newcastle United', '694952', 1, 0.68785012443752747), ('Newcastle United', 'Everton', '694952', 0, 0.55197661955055766), ('Manchester United', 'West Bromwich Albion', '694955', 1, 0.58922779348557619), ('West Bromwich Albion', 'Manchester United', '694955', 0, 0.39850530687370539), ('Sunderland', 'Liverpool', '694958', 1, 0.57192091487266861), ('Liverpool', 'Sunderland', '694958', 0, 0.16205326142958082), ('Swansea City', 'Arsenal', '694959', 1, 0.75957361817752012), ('Arsenal', 'Swansea City', '694959', 0, 0.36304267317025224), ('Fulham', 'Stoke City', '694962', 1, 0.61261396823707415), ('Stoke City', 'Fulham', '694962', 0, 0.19802840562191357), ('Sunderland', 'Manchester United', '694968', 1, 0.76682068506024925), ('Manchester United', 'Sunderland', '694968', 0, 0.79821912380698778), ('Swansea City', 'Sunderland', '694978', 1, 0.55600248478204051), ('Sunderland', 'Swansea City', '694978', 0, 0.2552600980497518), ('West Ham United', 'Manchester City', '694979', 1, 0.58868973308372086), ('Manchester City', 'West Ham United', '694979', 0, 0.6227926661764458), ('Aston Villa', 'Everton', '694981', 1, 0.56622262673709189), ('Everton', 'Aston Villa', '694981', 0, 0.28635801184559423), ('Manchester United', 'Stoke City', '694985', 1, 0.79896585160274813), ('Stoke City', 'Manchester United', '694985', 0, 0.35894988721298682), ('Cardiff City', 'Swansea City', '694991', 1, 0.45303169712842783), ('Swansea City', 'Cardiff City', '694991', 0, 0.27155361116042914), ('West Bromwich Albion', 'Crystal Palace', '694998', 1, 0.60104706627298854), ('Crystal Palace', 'West Bromwich Albion', '694998', 0, 0.55119486098536241), ('Arsenal', 'Liverpool', '695000', 1, 0.79867983313987123), ('Liverpool', 'Arsenal', '695000', 0, 0.50785433125176693), ('Norwich City', 'West Ham United', '695006', 1, 0.70598003595027625), ('West Ham United', 'Norwich City', '695006', 0, 0.26493429210118402), ('Sunderland', 'Manchester City', '695008', 1, 0.69384128898356578), ('Manchester City', 'Sunderland', '695008', 0, 0.44748485218796336), ('Tottenham Hotspur', 'Newcastle United', '695010', 1, 0.73105323852338167), ('Newcastle United', 'Tottenham Hotspur', '695010', 0, 0.33414594285144988), ('Fulham', 'Swansea City', '695013', 1, 0.79111855337977133), ('Swansea City', 'Fulham', '695013', 0, 0.37502841058613612), ('Hull City', 'Crystal Palace', '695014', 1, 0.74313243325732181), ('Crystal Palace', 'Hull City', '695014', 0, 0.33324345403486055), ('Manchester City', 'Tottenham Hotspur', '695015', 1, 0.68257845267338457), ('Tottenham Hotspur', 'Manchester City', '695015', 0, 0.32746819003336336), ('Newcastle United', 'Norwich City', '695016', 1, 0.10792021586867241), ('Norwich City', 'Newcastle United', '695016', 0, 0.28750206147023499), ('Stoke City', 'Sunderland', '695017', 1, 0.78559160321841937), ('Sunderland', 'Stoke City', '695017', 0, 0.23359501837411711), ('Arsenal', 'Southampton', '695020', 1, 0.58300163217227496), ('Southampton', 'Arsenal', '695020', 0, 0.29372802519886809), ('Cardiff City', 'Arsenal', '695022', 1, 0.58660248853440189), ('Arsenal', 'Cardiff City', '695022', 0, 0.38447299771686627), ('Chelsea', 'Southampton', '695023', 1, 0.24432591792158898), ('Southampton', 'Chelsea', '695023', 0, 0.46759521888721134), ('Hull City', 'Liverpool', '695025', 1, 0.41852264428176572), ('Liverpool', 'Hull City', '695025', 0, 0.30226896749630477), ('Manchester City', 'Swansea City', '695026', 1, 0.18204139870378108), ('Swansea City', 'Manchester City', '695026', 0, 0.2653236754052396), ('Arsenal', 'Hull City', '695031', 1, 0.85170967626935334), ('Hull City', 'Arsenal', '695031', 0, 0.6684878264365709), ('Manchester United', 'Everton', '695034', 1, 0.83205723533029496), ('Everton', 'Manchester United', '695034', 0, 0.30658788035276019), ('Southampton', 'Aston Villa', '695035', 1, 0.60466563831072573), ('Aston Villa', 'Southampton', '695035', 0, 0.26416817075975796), ('Sunderland', 'Chelsea', '695037', 1, 0.28618599388210175), ('Chelsea', 'Sunderland', '695037', 0, 0.33167917766984539), ('Swansea City', 'Newcastle United', '695038', 1, 0.43417753317040819), ('Newcastle United', 'Swansea City', '695038', 0, 0.23388377972617957), ('West Bromwich Albion', 'Manchester City', '695039', 1, 0.42730522808165011), ('Manchester City', 'West Bromwich Albion', '695039', 0, 0.29766863807574334), ('Fulham', 'Tottenham Hotspur', '695040', 1, 0.6899648251105438), ('Tottenham Hotspur', 'Fulham', '695040', 0, 0.38191520539749063), ('Crystal Palace', 'Cardiff City', '695042', 1, 0.53009378215527303), ('Cardiff City', 'Crystal Palace', '695042', 0, 0.68644883610937169), ('Fulham', 'Aston Villa', '695043', 1, 0.35323069571093207), ('Aston Villa', 'Fulham', '695043', 0, 0.43857910172912712), ('Stoke City', 'Chelsea', '695047', 1, 0.24011803805805465), ('Chelsea', 'Stoke City', '695047', 0, 0.16619777626005894), ('Sunderland', 'Tottenham Hotspur', '695048', 1, 0.40275878855662395), ('Tottenham Hotspur', 'Sunderland', '695048', 0, 0.45555916134962054), ('West Bromwich Albion', 'Norwich City', '695050', 1, 0.60930203631031543), ('Norwich City', 'West Bromwich Albion', '695050', 0, 0.28471985735299665), ('Aston Villa', 'Manchester United', '695051', 1, 0.81392004504522764), ('Manchester United', 'Aston Villa', '695051', 0, 0.29659065849374727), ('Chelsea', 'Crystal Palace', '695053', 1, 0.83999410278168674), ('Crystal Palace', 'Chelsea', '695053', 0, 0.46196061477268624), ('Manchester City', 'Arsenal', '695056', 1, 0.78203824710604386), ('Arsenal', 'Manchester City', '695056', 0, 0.39928313179168368), ('Tottenham Hotspur', 'Liverpool', '695059', 1, 0.74936610253149061), ('Liverpool', 'Tottenham Hotspur', '695059', 0, 0.38309848729839546), ('Crystal Palace', 'Newcastle United', '695062', 1, 0.4399998917099418), ('Newcastle United', 'Crystal Palace', '695062', 0, 0.3670734279428492), ('Fulham', 'Manchester City', '695063', 1, 0.70883806498370761), ('Manchester City', 'Fulham', '695063', 0, 0.18922659832193672), ('Liverpool', 'Cardiff City', '695064', 1, 0.84707220822578622), ('Cardiff City', 'Liverpool', '695064', 0, 0.79776249326911752), ('Manchester United', 'West Ham United', '695065', 1, 0.84908214283007832), ('West Ham United', 'Manchester United', '695065', 0, 0.37543839024517711), ('Southampton', 'Tottenham Hotspur', '695066', 1, 0.96627386235764878), ('Tottenham Hotspur', 'Southampton', '695066', 0, 0.7078288082528178), ('Stoke City', 'Aston Villa', '695067', 1, 0.71501410809504506), ('Aston Villa', 'Stoke City', '695067', 0, 0.18749628014257888), ('Swansea City', 'Everton', '695069', 1, 0.4914872457517151), ('Everton', 'Swansea City', '695069', 0, 0.75078780736121575), ('Chelsea', 'Swansea City', '695073', 1, 0.59259726310557881), ('Swansea City', 'Chelsea', '695073', 0, 0.45107303254625419), ('Everton', 'Sunderland', '695074', 1, 0.36910644456142594), ('Sunderland', 'Everton', '695074', 0, 0.40503811471117274), ('Hull City', 'Manchester United', '695075', 1, 0.41249197036650243), ('Manchester United', 'Hull City', '695075', 0, 0.43909648673042306), ('Manchester City', 'Liverpool', '695076', 1, 0.50593181311716573), ('Liverpool', 'Manchester City', '695076', 0, 0.35174519629014506), ('Newcastle United', 'Stoke City', '695077', 1, 0.34767223470183733), ('Stoke City', 'Newcastle United', '695077', 0, 0.24074206389716285), ('Norwich City', 'Fulham', '695078', 1, 0.95560768212449332), ('Fulham', 'Norwich City', '695078', 0, 0.39743069565327194), ('West Ham United', 'Arsenal', '695080', 1, 0.73894331527537016), ('Arsenal', 'West Ham United', '695080', 0, 0.52253992807041527), ('Manchester City', 'Crystal Palace', '695086', 1, 0.65078602184280265), ('Crystal Palace', 'Manchester City', '695086', 0, 0.48052615603117443), ('Newcastle United', 'Arsenal', '695087', 1, 0.96579806549873326), ('Arsenal', 'Newcastle United', '695087', 0, 0.25673715819866222), ('Tottenham Hotspur', 'Stoke City', '695089', 1, 0.83426911803547055), ('Stoke City', 'Tottenham Hotspur', '695089', 0, 0.32043648223112292), ('Arsenal', 'Cardiff City', '695091', 1, 0.42776269785892079), ('Cardiff City', 'Arsenal', '695091', 0, 0.27720750604700906), ('Southampton', 'Chelsea', '695096', 1, 0.54946446165864093), ('Chelsea', 'Southampton', '695096', 0, 0.58092712225026666), ('Sunderland', 'Aston Villa', '695098', 1, 0.43487145740928695), ('Aston Villa', 'Sunderland', '695098', 0, 0.46594479376461678), ('Swansea City', 'Manchester City', '695099', 1, 0.72043771525154698), ('Manchester City', 'Swansea City', '695099', 0, 0.47565643679123909), ('Aston Villa', 'Arsenal', '695101', 1, 0.55472469718570361), ('Arsenal', 'Aston Villa', '695101', 0, 0.52547362160528488), ('Everton', 'Norwich City', '695103', 1, 0.41385469295176391), ('Norwich City', 'Everton', '695103', 0, 0.3071586589193791), ('Hull City', 'Chelsea', '695105', 1, 0.79534053044899178), ('Chelsea', 'Hull City', '695105', 0, 0.60348031643722544), ('Newcastle United', 'Manchester City', '695107', 1, 0.78160890351728396), ('Manchester City', 'Newcastle United', '695107', 0, 0.45722243396143569), ('Southampton', 'West Bromwich Albion', '695108', 1, 0.96646066181441759), ('West Bromwich Albion', 'Southampton', '695108', 0, 0.41696444494324814), ('Stoke City', 'Liverpool', '695109', 1, 0.6054839401817097), ('Liverpool', 'Stoke City', '695109', 0, 0.44689333835574618), ('Crystal Palace', 'Stoke City', '695113', 1, 0.58238105026186848), ('Stoke City', 'Crystal Palace', '695113', 0, 0.29018627344396081), ('Manchester City', 'Cardiff City', '695115', 1, 0.56548245917175466), ('Cardiff City', 'Manchester City', '695115', 0, 0.58729354828402747), ('Norwich City', 'Hull City', '695116', 1, 0.33951697250247276), ('Hull City', 'Norwich City', '695116', 0, 0.5100313579545338), ('Swansea City', 'Tottenham Hotspur', '695118', 1, 0.51888196051119528), ('Tottenham Hotspur', 'Swansea City', '695118', 0, 0.93997617971491099), ('West Ham United', 'Newcastle United', '695120', 1, 0.72859092590528174), ('Newcastle United', 'West Ham United', '695120', 0, 0.36890372001868843), ('Aston Villa', 'West Bromwich Albion', '695121', 1, 0.35490895127797806), ('West Bromwich Albion', 'Aston Villa', '695121', 0, 0.1775244942210864), ('Crystal Palace', 'Hull City', '695122', 1, 0.73803115933224106), ('Hull City', 'Crystal Palace', '695122', 0, 0.64005613232691183), ('Liverpool', 'Everton', '695123', 1, 0.52433485361494259), ('Everton', 'Liverpool', '695123', 0, 0.55286914201366122), ('Manchester United', 'Cardiff City', '695124', 1, 0.68486730460516176), ('Cardiff City', 'Manchester United', '695124', 0, 0.22601928344757802), ('Swansea City', 'Fulham', '695128', 1, 0.4882271391140241), ('Fulham', 'Swansea City', '695128', 0, 0.42571758397554771), ('Cardiff City', 'Norwich City', '695132', 1, 0.88584699506107678), ('Norwich City', 'Cardiff City', '695132', 0, 0.45433876914912735), ('Everton', 'Aston Villa', '695133', 1, 0.66511753695551357), ('Aston Villa', 'Everton', '695133', 0, 0.48692944247708075), ('Fulham', 'Southampton', '695134', 1, 0.58483410589072449), ('Southampton', 'Fulham', '695134', 0, 0.25438775964335558), ('Newcastle United', 'Sunderland', '695137', 1, 0.43970997128670863), ('Sunderland', 'Newcastle United', '695137', 0, 0.30672684363024216), ('Stoke City', 'Manchester United', '695138', 1, 0.70531432647039005), ('Manchester United', 'Stoke City', '695138', 0, 0.43881341221170767), ('West Ham United', 'Swansea City', '695140', 1, 0.51958196859829697), ('Swansea City', 'West Ham United', '695140', 0, 0.18585001056508696), ('Aston Villa', 'West Ham United', '695141', 1, 0.59031295564556441), ('West Ham United', 'Aston Villa', '695141', 0, 0.34709140011967449), ('Chelsea', 'Newcastle United', '695142', 1, 0.97658677296605534), ('Newcastle United', 'Chelsea', '695142', 0, 0.34743267528251603), ('Sunderland', 'Hull City', '695148', 1, 0.60188208404256982), ('Hull City', 'Sunderland', '695148', 0, 0.19928289475529432), ('Swansea City', 'Cardiff City', '695149', 1, 0.77744116562577592), ('Cardiff City', 'Swansea City', '695149', 0, 0.18922516342000817), ('Tottenham Hotspur', 'Everton', '695150', 1, 0.55838482414089174), ('Everton', 'Tottenham Hotspur', '695150', 0, 0.39835290734982531), ('Newcastle United', 'Tottenham Hotspur', '695160', 1, 0.36720845530919211), ('Tottenham Hotspur', 'Newcastle United', '695160', 0, 0.31398492011608309), ('Cardiff City', 'Hull City', '695161', 1, 0.67854771533049973), ('Hull City', 'Cardiff City', '695161', 0, 0.49402718053550448), ('Liverpool', 'Swansea City', '695164', 1, 0.59914169548744012), ('Swansea City', 'Liverpool', '695164', 0, 0.20407897500556235), ('Newcastle United', 'Aston Villa', '695166', 1, 0.61855963020446725), ('Aston Villa', 'Newcastle United', '695166', 0, 0.50219003356840564), ('Norwich City', 'Tottenham Hotspur', '695167', 1, 0.33516224454310584), ('Tottenham Hotspur', 'Norwich City', '695167', 0, 0.40712299269717328), ('West Ham United', 'Southampton', '695169', 1, 0.58273926280522048), ('Southampton', 'West Ham United', '695169', 0, 0.32751972229742932), ('Everton', 'West Ham United', '695172', 1, 0.6732309955007455), ('West Ham United', 'Everton', '695172', 0, 0.32449546343418734), ('Manchester United', 'Manchester City', '695175', 1, 0.79804174330359712), ('Manchester City', 'Manchester United', '695175', 0, 0.53000020187017527), ('Stoke City', 'Arsenal', '695177', 1, 0.75003824266664887), ('Arsenal', 'Stoke City', '695177', 0, 0.33067125538501857), ('Sunderland', 'West Bromwich Albion', '695178', 1, 0.48866699157545579), ('West Bromwich Albion', 'Sunderland', '695178', 0, 0.46673046598590168), ('Tottenham Hotspur', 'Cardiff City', '695180', 1, 0.44804091772807458), ('Cardiff City', 'Tottenham Hotspur', '695180', 0, 0.30733665652331238), ('Liverpool', 'Sunderland', '695184', 1, 0.55954198019550339), ('Sunderland', 'Liverpool', '695184', 0, 0.27548274277164703), ('West Ham United', 'Hull City', '695189', 1, 0.49415684893324757), ('Hull City', 'West Ham United', '695189', 0, 0.69747756859718224), ('Aston Villa', 'Chelsea', '695191', 1, 0.74265837655837375), ('Chelsea', 'Aston Villa', '695191', 0, 0.25206191739701572), ('Everton', 'Cardiff City', '695192', 1, 0.59937307726153877), ('Cardiff City', 'Everton', '695192', 0, 0.31111883056081768), ('Manchester United', 'Liverpool', '695195', 1, 0.38401844464404655), ('Liverpool', 'Manchester United', '695195', 0, 0.38904938735781097), ('Swansea City', 'West Bromwich Albion', '695199', 1, 0.46467386048350329), ('West Bromwich Albion', 'Swansea City', '695199', 0, 0.35446460979915034), ('Aston Villa', 'Stoke City', '695201', 1, 0.86061176781092807), ('Stoke City', 'Aston Villa', '695201', 0, 0.2679580150459237), ('Chelsea', 'Arsenal', '695203', 1, 0.47976640512197882), ('Arsenal', 'Chelsea', '695203', 0, 0.58791828177425243), ('Hull City', 'West Bromwich Albion', '695205', 1, 0.49404193007417063), ('West Bromwich Albion', 'Hull City', '695205', 0, 0.63556365428149075), ('Manchester City', 'Fulham', '695206', 1, 0.38125483693503576), ('Fulham', 'Manchester City', '695206', 0, 0.39295932170600839), ('Tottenham Hotspur', 'Southampton', '695209', 1, 0.47333806380894394), ('Southampton', 'Tottenham Hotspur', '695209', 0, 0.36462331599414438), ('West Ham United', 'Manchester United', '695210', 1, 0.88614993942145981), ('Manchester United', 'West Ham United', '695210', 0, 0.38478497228323416)]\n",
        "[[39 21 20]\n",
        " [19 13 25]\n",
        " [24 28 72]]\n",
        "Pct correct = 124/261=0.475096\n"
       ]
      }
     ],
     "prompt_number": 43
    },
    {
     "cell_type": "code",
     "collapsed": false,
     "input": [
      ".55 / .46"
     ],
     "language": "python",
     "metadata": {},
     "outputs": [
      {
       "metadata": {},
       "output_type": "pyout",
       "prompt_number": 41,
       "text": [
        "1.1956521739130435"
       ]
      }
     ],
     "prompt_number": 41
    },
    {
     "cell_type": "code",
     "collapsed": false,
     "input": [],
     "language": "python",
     "metadata": {},
     "outputs": []
    },
    {
     "cell_type": "code",
     "collapsed": false,
     "input": [
      "reload(features)\n",
      "from pandas.io import gbq\n",
      "import numpy\n",
      "numpy.set_printoptions(threshold='nan')\n",
      "df = gbq.read_gbq(\n",
      "\"SELECT * FROM (%s) WHERE matchid = '442184'\" % (features.history_query,))\n",
      "cols1 = df.columns[:10]\n",
      "cols2 = df.columns[10:20]\n",
      "cols3 = df.columns[20:]\n",
      "\n",
      "print df[cols1]\n",
      "print df[cols2]\n",
      "print df[cols2]\n"
     ],
     "language": "python",
     "metadata": {},
     "outputs": [
      {
       "output_type": "stream",
       "stream": "stdout",
       "text": [
        "\r",
        "Waiting on bqjob_r79d9924e43bcbfbf_00000146560259f5_34 ... (0s) Current status: DONE   \n",
        "  matchid  teamid  op_teamid  points  goals  op_goals  is_home     team_name  \\\n",
        "0  442184      45          8       0      0         1        1  Norwich City   \n",
        "1  442184       8         45       3      1         0        0       Chelsea   \n",
        "\n",
        "   op_team_name  total_points  \n",
        "0       Chelsea            15  \n",
        "1  Norwich City            10  \n",
        "\n",
        "[2 rows x 10 columns]"
       ]
      },
      {
       "output_type": "stream",
       "stream": "stdout",
       "text": [
        "\n",
        "   home_passes  home_goals  home_shots  op_home_passes  op_home_goals  \\\n",
        "0         2078           5          72            2610              2   \n",
        "1         3480           9         128            3332              1   \n",
        "\n",
        "   op_home_shots  op_away_passes  op_away_goals  op_away_shots  pass_70  \n",
        "0             88            4070              7            132      100  \n",
        "1             68            2698              7             94      189  \n",
        "\n",
        "[2 rows x 10 columns]\n",
        "   home_passes  home_goals  home_shots  op_home_passes  op_home_goals  \\\n",
        "0         2078           5          72            2610              2   \n",
        "1         3480           9         128            3332              1   \n",
        "\n",
        "   op_home_shots  op_away_passes  op_away_goals  op_away_shots  pass_70  \n",
        "0             88            4070              7            132      100  \n",
        "1             68            2698              7             94      189  \n",
        "\n",
        "[2 rows x 10 columns]\n"
       ]
      }
     ],
     "prompt_number": 53
    },
    {
     "cell_type": "code",
     "collapsed": false,
     "input": [
      "reload(features)\n",
      "# print features.team_game_op_summary\n",
      "print(gbq.read_gbq(\n",
      "\"SELECT * FROM (%s) WHERE matchid = '442148'\" % (features.history_query,)))\n",
      "\n",
      "# print features.match_goals\n"
     ],
     "language": "python",
     "metadata": {},
     "outputs": [
      {
       "output_type": "stream",
       "stream": "stdout",
       "text": [
        "\r",
        "Waiting on bqjob_r36471ba0713794ce_00000146532df6cb_85 ... (0s) Current status: RUNNING "
       ]
      },
      {
       "output_type": "stream",
       "stream": "stdout",
       "text": [
        "\r",
        "Waiting on bqjob_r36471ba0713794ce_00000146532df6cb_85 ... (1s) Current status: RUNNING "
       ]
      },
      {
       "output_type": "stream",
       "stream": "stdout",
       "text": [
        "\r",
        "Waiting on bqjob_r36471ba0713794ce_00000146532df6cb_85 ... (3s) Current status: RUNNING "
       ]
      },
      {
       "output_type": "stream",
       "stream": "stdout",
       "text": [
        "\r",
        "Waiting on bqjob_r36471ba0713794ce_00000146532df6cb_85 ... (4s) Current status: RUNNING "
       ]
      },
      {
       "output_type": "stream",
       "stream": "stdout",
       "text": [
        "\r",
        "Waiting on bqjob_r36471ba0713794ce_00000146532df6cb_85 ... (5s) Current status: RUNNING "
       ]
      },
      {
       "output_type": "stream",
       "stream": "stdout",
       "text": [
        "\r",
        "Waiting on bqjob_r36471ba0713794ce_00000146532df6cb_85 ... (7s) Current status: RUNNING "
       ]
      },
      {
       "output_type": "stream",
       "stream": "stdout",
       "text": [
        "\r",
        "Waiting on bqjob_r36471ba0713794ce_00000146532df6cb_85 ... (8s) Current status: RUNNING "
       ]
      },
      {
       "output_type": "stream",
       "stream": "stdout",
       "text": [
        "\r",
        "Waiting on bqjob_r36471ba0713794ce_00000146532df6cb_85 ... (9s) Current status: RUNNING "
       ]
      },
      {
       "output_type": "stream",
       "stream": "stdout",
       "text": [
        "\r",
        "Waiting on bqjob_r36471ba0713794ce_00000146532df6cb_85 ... (11s) Current status: RUNNING "
       ]
      },
      {
       "output_type": "stream",
       "stream": "stdout",
       "text": [
        "\r",
        "Waiting on bqjob_r36471ba0713794ce_00000146532df6cb_85 ... (12s) Current status: RUNNING "
       ]
      },
      {
       "output_type": "stream",
       "stream": "stdout",
       "text": [
        "\r",
        "Waiting on bqjob_r36471ba0713794ce_00000146532df6cb_85 ... (13s) Current status: RUNNING "
       ]
      },
      {
       "output_type": "stream",
       "stream": "stdout",
       "text": [
        "\r",
        "Waiting on bqjob_r36471ba0713794ce_00000146532df6cb_85 ... (14s) Current status: RUNNING "
       ]
      },
      {
       "output_type": "stream",
       "stream": "stdout",
       "text": [
        "\r",
        "Waiting on bqjob_r36471ba0713794ce_00000146532df6cb_85 ... (15s) Current status: RUNNING "
       ]
      },
      {
       "output_type": "stream",
       "stream": "stdout",
       "text": [
        "\r",
        "Waiting on bqjob_r36471ba0713794ce_00000146532df6cb_85 ... (16s) Current status: RUNNING "
       ]
      },
      {
       "output_type": "stream",
       "stream": "stdout",
       "text": [
        "\r",
        "Waiting on bqjob_r36471ba0713794ce_00000146532df6cb_85 ... (17s) Current status: RUNNING "
       ]
      },
      {
       "output_type": "stream",
       "stream": "stdout",
       "text": [
        "\r",
        "Waiting on bqjob_r36471ba0713794ce_00000146532df6cb_85 ... (18s) Current status: RUNNING "
       ]
      },
      {
       "output_type": "stream",
       "stream": "stdout",
       "text": [
        "\r",
        "Waiting on bqjob_r36471ba0713794ce_00000146532df6cb_85 ... (19s) Current status: RUNNING "
       ]
      },
      {
       "output_type": "stream",
       "stream": "stdout",
       "text": [
        "\r",
        "Waiting on bqjob_r36471ba0713794ce_00000146532df6cb_85 ... (20s) Current status: RUNNING "
       ]
      },
      {
       "output_type": "stream",
       "stream": "stdout",
       "text": [
        "\r",
        "Waiting on bqjob_r36471ba0713794ce_00000146532df6cb_85 ... (21s) Current status: RUNNING "
       ]
      },
      {
       "output_type": "stream",
       "stream": "stdout",
       "text": [
        "\r",
        "Waiting on bqjob_r36471ba0713794ce_00000146532df6cb_85 ... (22s) Current status: RUNNING "
       ]
      },
      {
       "output_type": "stream",
       "stream": "stdout",
       "text": [
        "\r",
        "Waiting on bqjob_r36471ba0713794ce_00000146532df6cb_85 ... (23s) Current status: RUNNING "
       ]
      },
      {
       "output_type": "stream",
       "stream": "stdout",
       "text": [
        "\r",
        "Waiting on bqjob_r36471ba0713794ce_00000146532df6cb_85 ... (24s) Current status: RUNNING "
       ]
      },
      {
       "output_type": "stream",
       "stream": "stdout",
       "text": [
        "\r",
        "Waiting on bqjob_r36471ba0713794ce_00000146532df6cb_85 ... (25s) Current status: RUNNING "
       ]
      },
      {
       "output_type": "stream",
       "stream": "stdout",
       "text": [
        "\r",
        "Waiting on bqjob_r36471ba0713794ce_00000146532df6cb_85 ... (27s) Current status: RUNNING "
       ]
      },
      {
       "output_type": "stream",
       "stream": "stdout",
       "text": [
        "\r",
        "Waiting on bqjob_r36471ba0713794ce_00000146532df6cb_85 ... (28s) Current status: RUNNING "
       ]
      },
      {
       "output_type": "stream",
       "stream": "stdout",
       "text": [
        "\r",
        "Waiting on bqjob_r36471ba0713794ce_00000146532df6cb_85 ... (29s) Current status: RUNNING "
       ]
      },
      {
       "output_type": "stream",
       "stream": "stdout",
       "text": [
        "\r",
        "Waiting on bqjob_r36471ba0713794ce_00000146532df6cb_85 ... (30s) Current status: RUNNING "
       ]
      },
      {
       "output_type": "stream",
       "stream": "stdout",
       "text": [
        "\r",
        "Waiting on bqjob_r36471ba0713794ce_00000146532df6cb_85 ... (31s) Current status: RUNNING "
       ]
      },
      {
       "output_type": "stream",
       "stream": "stdout",
       "text": [
        "\r",
        "Waiting on bqjob_r36471ba0713794ce_00000146532df6cb_85 ... (32s) Current status: RUNNING "
       ]
      },
      {
       "output_type": "stream",
       "stream": "stdout",
       "text": [
        "\r",
        "Waiting on bqjob_r36471ba0713794ce_00000146532df6cb_85 ... (33s) Current status: RUNNING "
       ]
      },
      {
       "output_type": "stream",
       "stream": "stdout",
       "text": [
        "\r",
        "Waiting on bqjob_r36471ba0713794ce_00000146532df6cb_85 ... (34s) Current status: RUNNING "
       ]
      },
      {
       "output_type": "stream",
       "stream": "stdout",
       "text": [
        "\r",
        "Waiting on bqjob_r36471ba0713794ce_00000146532df6cb_85 ... (35s) Current status: RUNNING "
       ]
      },
      {
       "output_type": "stream",
       "stream": "stdout",
       "text": [
        "\r",
        "Waiting on bqjob_r36471ba0713794ce_00000146532df6cb_85 ... (36s) Current status: RUNNING "
       ]
      },
      {
       "output_type": "stream",
       "stream": "stdout",
       "text": [
        "\r",
        "Waiting on bqjob_r36471ba0713794ce_00000146532df6cb_85 ... (37s) Current status: RUNNING "
       ]
      },
      {
       "output_type": "stream",
       "stream": "stdout",
       "text": [
        "\r",
        "Waiting on bqjob_r36471ba0713794ce_00000146532df6cb_85 ... (38s) Current status: RUNNING "
       ]
      },
      {
       "output_type": "stream",
       "stream": "stdout",
       "text": [
        "\r",
        "Waiting on bqjob_r36471ba0713794ce_00000146532df6cb_85 ... (39s) Current status: RUNNING "
       ]
      },
      {
       "output_type": "stream",
       "stream": "stdout",
       "text": [
        "\r",
        "Waiting on bqjob_r36471ba0713794ce_00000146532df6cb_85 ... (40s) Current status: RUNNING "
       ]
      },
      {
       "output_type": "stream",
       "stream": "stdout",
       "text": [
        "\r",
        "Waiting on bqjob_r36471ba0713794ce_00000146532df6cb_85 ... (41s) Current status: RUNNING "
       ]
      },
      {
       "output_type": "stream",
       "stream": "stdout",
       "text": [
        "\r",
        "Waiting on bqjob_r36471ba0713794ce_00000146532df6cb_85 ... (42s) Current status: RUNNING "
       ]
      },
      {
       "output_type": "stream",
       "stream": "stdout",
       "text": [
        "\r",
        "Waiting on bqjob_r36471ba0713794ce_00000146532df6cb_85 ... (43s) Current status: RUNNING "
       ]
      },
      {
       "output_type": "stream",
       "stream": "stdout",
       "text": [
        "\r",
        "Waiting on bqjob_r36471ba0713794ce_00000146532df6cb_85 ... (44s) Current status: RUNNING "
       ]
      },
      {
       "output_type": "stream",
       "stream": "stdout",
       "text": [
        "\r",
        "Waiting on bqjob_r36471ba0713794ce_00000146532df6cb_85 ... (45s) Current status: RUNNING "
       ]
      },
      {
       "output_type": "stream",
       "stream": "stdout",
       "text": [
        "\r",
        "Waiting on bqjob_r36471ba0713794ce_00000146532df6cb_85 ... (46s) Current status: RUNNING "
       ]
      },
      {
       "output_type": "stream",
       "stream": "stdout",
       "text": [
        "\r",
        "Waiting on bqjob_r36471ba0713794ce_00000146532df6cb_85 ... (47s) Current status: RUNNING "
       ]
      },
      {
       "output_type": "stream",
       "stream": "stdout",
       "text": [
        "\r",
        "Waiting on bqjob_r36471ba0713794ce_00000146532df6cb_85 ... (48s) Current status: RUNNING "
       ]
      },
      {
       "output_type": "stream",
       "stream": "stdout",
       "text": [
        "\r",
        "Waiting on bqjob_r36471ba0713794ce_00000146532df6cb_85 ... (49s) Current status: RUNNING "
       ]
      },
      {
       "output_type": "stream",
       "stream": "stdout",
       "text": [
        "\r",
        "Waiting on bqjob_r36471ba0713794ce_00000146532df6cb_85 ... (50s) Current status: RUNNING "
       ]
      },
      {
       "output_type": "stream",
       "stream": "stdout",
       "text": [
        "\r",
        "Waiting on bqjob_r36471ba0713794ce_00000146532df6cb_85 ... (51s) Current status: RUNNING "
       ]
      },
      {
       "output_type": "stream",
       "stream": "stdout",
       "text": [
        "\r",
        "Waiting on bqjob_r36471ba0713794ce_00000146532df6cb_85 ... (52s) Current status: RUNNING "
       ]
      },
      {
       "output_type": "stream",
       "stream": "stdout",
       "text": [
        "\r",
        "Waiting on bqjob_r36471ba0713794ce_00000146532df6cb_85 ... (53s) Current status: RUNNING "
       ]
      },
      {
       "output_type": "stream",
       "stream": "stdout",
       "text": [
        "\r",
        "Waiting on bqjob_r36471ba0713794ce_00000146532df6cb_85 ... (54s) Current status: RUNNING "
       ]
      },
      {
       "output_type": "stream",
       "stream": "stdout",
       "text": [
        "\r",
        "Waiting on bqjob_r36471ba0713794ce_00000146532df6cb_85 ... (55s) Current status: RUNNING "
       ]
      },
      {
       "output_type": "stream",
       "stream": "stdout",
       "text": [
        "\r",
        "Waiting on bqjob_r36471ba0713794ce_00000146532df6cb_85 ... (56s) Current status: RUNNING "
       ]
      },
      {
       "output_type": "stream",
       "stream": "stdout",
       "text": [
        "\r",
        "Waiting on bqjob_r36471ba0713794ce_00000146532df6cb_85 ... (57s) Current status: RUNNING "
       ]
      },
      {
       "output_type": "stream",
       "stream": "stdout",
       "text": [
        "\r",
        "Waiting on bqjob_r36471ba0713794ce_00000146532df6cb_85 ... (58s) Current status: RUNNING "
       ]
      },
      {
       "output_type": "stream",
       "stream": "stdout",
       "text": [
        "\r",
        "Waiting on bqjob_r36471ba0713794ce_00000146532df6cb_85 ... (59s) Current status: RUNNING "
       ]
      },
      {
       "output_type": "stream",
       "stream": "stdout",
       "text": [
        "\r",
        "Waiting on bqjob_r36471ba0713794ce_00000146532df6cb_85 ... (60s) Current status: RUNNING "
       ]
      },
      {
       "output_type": "stream",
       "stream": "stdout",
       "text": [
        "\r",
        "Waiting on bqjob_r36471ba0713794ce_00000146532df6cb_85 ... (61s) Current status: RUNNING "
       ]
      },
      {
       "output_type": "stream",
       "stream": "stdout",
       "text": [
        "\r",
        "Waiting on bqjob_r36471ba0713794ce_00000146532df6cb_85 ... (62s) Current status: RUNNING "
       ]
      },
      {
       "output_type": "stream",
       "stream": "stdout",
       "text": [
        "\r",
        "Waiting on bqjob_r36471ba0713794ce_00000146532df6cb_85 ... (63s) Current status: RUNNING "
       ]
      },
      {
       "output_type": "stream",
       "stream": "stdout",
       "text": [
        "\r",
        "Waiting on bqjob_r36471ba0713794ce_00000146532df6cb_85 ... (64s) Current status: RUNNING "
       ]
      },
      {
       "output_type": "stream",
       "stream": "stdout",
       "text": [
        "\r",
        "Waiting on bqjob_r36471ba0713794ce_00000146532df6cb_85 ... (65s) Current status: RUNNING "
       ]
      },
      {
       "output_type": "stream",
       "stream": "stdout",
       "text": [
        "\r",
        "Waiting on bqjob_r36471ba0713794ce_00000146532df6cb_85 ... (66s) Current status: RUNNING "
       ]
      },
      {
       "output_type": "stream",
       "stream": "stdout",
       "text": [
        "\r",
        "Waiting on bqjob_r36471ba0713794ce_00000146532df6cb_85 ... (67s) Current status: RUNNING "
       ]
      },
      {
       "output_type": "stream",
       "stream": "stdout",
       "text": [
        "\r",
        "Waiting on bqjob_r36471ba0713794ce_00000146532df6cb_85 ... (68s) Current status: RUNNING "
       ]
      },
      {
       "output_type": "stream",
       "stream": "stdout",
       "text": [
        "\r",
        "Waiting on bqjob_r36471ba0713794ce_00000146532df6cb_85 ... (70s) Current status: RUNNING "
       ]
      },
      {
       "output_type": "stream",
       "stream": "stdout",
       "text": [
        "\r",
        "Waiting on bqjob_r36471ba0713794ce_00000146532df6cb_85 ... (71s) Current status: RUNNING "
       ]
      },
      {
       "output_type": "stream",
       "stream": "stdout",
       "text": [
        "\r",
        "Waiting on bqjob_r36471ba0713794ce_00000146532df6cb_85 ... (72s) Current status: RUNNING "
       ]
      },
      {
       "output_type": "stream",
       "stream": "stdout",
       "text": [
        "\r",
        "Waiting on bqjob_r36471ba0713794ce_00000146532df6cb_85 ... (73s) Current status: RUNNING "
       ]
      },
      {
       "output_type": "stream",
       "stream": "stdout",
       "text": [
        "\r",
        "Waiting on bqjob_r36471ba0713794ce_00000146532df6cb_85 ... (74s) Current status: RUNNING "
       ]
      },
      {
       "output_type": "stream",
       "stream": "stdout",
       "text": [
        "\r",
        "Waiting on bqjob_r36471ba0713794ce_00000146532df6cb_85 ... (75s) Current status: RUNNING "
       ]
      },
      {
       "output_type": "stream",
       "stream": "stdout",
       "text": [
        "\r",
        "Waiting on bqjob_r36471ba0713794ce_00000146532df6cb_85 ... (76s) Current status: RUNNING "
       ]
      },
      {
       "output_type": "stream",
       "stream": "stdout",
       "text": [
        "\r",
        "Waiting on bqjob_r36471ba0713794ce_00000146532df6cb_85 ... (77s) Current status: RUNNING "
       ]
      },
      {
       "output_type": "stream",
       "stream": "stdout",
       "text": [
        "\r",
        "Waiting on bqjob_r36471ba0713794ce_00000146532df6cb_85 ... (78s) Current status: RUNNING "
       ]
      },
      {
       "output_type": "stream",
       "stream": "stdout",
       "text": [
        "\r",
        "Waiting on bqjob_r36471ba0713794ce_00000146532df6cb_85 ... (79s) Current status: RUNNING "
       ]
      },
      {
       "output_type": "stream",
       "stream": "stdout",
       "text": [
        "\r",
        "Waiting on bqjob_r36471ba0713794ce_00000146532df6cb_85 ... (80s) Current status: RUNNING "
       ]
      },
      {
       "output_type": "stream",
       "stream": "stdout",
       "text": [
        "\r",
        "Waiting on bqjob_r36471ba0713794ce_00000146532df6cb_85 ... (81s) Current status: RUNNING "
       ]
      },
      {
       "output_type": "stream",
       "stream": "stdout",
       "text": [
        "\r",
        "Waiting on bqjob_r36471ba0713794ce_00000146532df6cb_85 ... (82s) Current status: RUNNING "
       ]
      },
      {
       "output_type": "stream",
       "stream": "stdout",
       "text": [
        "\r",
        "Waiting on bqjob_r36471ba0713794ce_00000146532df6cb_85 ... (83s) Current status: RUNNING "
       ]
      },
      {
       "output_type": "stream",
       "stream": "stdout",
       "text": [
        "\r",
        "Waiting on bqjob_r36471ba0713794ce_00000146532df6cb_85 ... (84s) Current status: RUNNING "
       ]
      },
      {
       "output_type": "stream",
       "stream": "stdout",
       "text": [
        "\r",
        "Waiting on bqjob_r36471ba0713794ce_00000146532df6cb_85 ... (85s) Current status: RUNNING "
       ]
      },
      {
       "output_type": "stream",
       "stream": "stdout",
       "text": [
        "\r",
        "Waiting on bqjob_r36471ba0713794ce_00000146532df6cb_85 ... (86s) Current status: RUNNING "
       ]
      },
      {
       "output_type": "stream",
       "stream": "stdout",
       "text": [
        "\r",
        "Waiting on bqjob_r36471ba0713794ce_00000146532df6cb_85 ... (87s) Current status: RUNNING "
       ]
      },
      {
       "output_type": "stream",
       "stream": "stdout",
       "text": [
        "\r",
        "Waiting on bqjob_r36471ba0713794ce_00000146532df6cb_85 ... (88s) Current status: RUNNING "
       ]
      },
      {
       "output_type": "stream",
       "stream": "stdout",
       "text": [
        "\r",
        "Waiting on bqjob_r36471ba0713794ce_00000146532df6cb_85 ... (89s) Current status: RUNNING "
       ]
      },
      {
       "output_type": "stream",
       "stream": "stdout",
       "text": [
        "\r",
        "Waiting on bqjob_r36471ba0713794ce_00000146532df6cb_85 ... (89s) Current status: DONE   \n",
        "  matchid  teamid  op_teamid  points  goals  op_goals  is_home  \\\n",
        "0  442148       8         21       0      1         3        0   \n",
        "1  442148      21          8       3      3         1        1   \n",
        "\n",
        "         team_name     op_team_name  home_passes  home_goals  home_shots  \\\n",
        "0          Chelsea  West Ham United         2718           8          96   \n",
        "1  West Ham United          Chelsea         1454           7          65   \n",
        "\n",
        "   op_home_passes  op_home_goals  op_home_shots  op_away_passes  \\\n",
        "0            2253              5             63            1507   \n",
        "1            1987              6             67            2023   \n",
        "\n",
        "   op_away_goals  op_away_shots  passes  bad_passes      \n",
        "0              6             61   457.2       101.3 ...  \n",
        "1              7             95   288.0       114.2 ...  \n",
        "\n",
        "[2 rows x 31 columns]"
       ]
      },
      {
       "output_type": "stream",
       "stream": "stdout",
       "text": [
        "\n"
       ]
      }
     ],
     "prompt_number": 106
    },
    {
     "cell_type": "code",
     "collapsed": false,
     "input": [
      "1675762.0 / 15358"
     ],
     "language": "python",
     "metadata": {},
     "outputs": [
      {
       "metadata": {},
       "output_type": "pyout",
       "prompt_number": 54,
       "text": [
        "109.1132960020836"
       ]
      }
     ],
     "prompt_number": 54
    }
   ],
   "metadata": {}
  }
 ]
}