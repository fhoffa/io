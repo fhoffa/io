{
 "metadata": {
  "name": ""
 },
 "nbformat": 3,
 "nbformat_minor": 0,
 "worksheets": [
  {
   "cells": [
    {
     "cell_type": "markdown",
     "metadata": {},
     "source": [
      "How big is our data?"
     ]
    },
    {
     "cell_type": "code",
     "collapsed": false,
     "input": [
      "from pandas.io import gbq\n",
      "query = \"\"\"\n",
      "  SELECT \n",
      "      COUNT(DISTINCT(matchid)) as matches,\n",
      "      COUNT(DISTINCT(eventid)) / \n",
      "            COUNT(DISTINCT(matchid)) as touches_per_match,\n",
      "      COUNT(DISTINCT(eventid)) touches, \n",
      "         SUM(COUNT(qualifiers.id)) as facts,\n",
      "  FROM ([toque.touches])\n",
      "  \"\"\"\n",
      "gbq.read_gbq(query)"
     ],
     "language": "python",
     "metadata": {},
     "outputs": [
      {
       "output_type": "stream",
       "stream": "stdout",
       "text": [
        "\r",
        "Waiting on bqjob_rbafaa70e6ee68b1_00000146d9b5ae8b_58 ... (0s) Current status: RUNNING "
       ]
      },
      {
       "output_type": "stream",
       "stream": "stdout",
       "text": [
        "\r",
        "Waiting on bqjob_rbafaa70e6ee68b1_00000146d9b5ae8b_58 ... (1s) Current status: RUNNING "
       ]
      },
      {
       "output_type": "stream",
       "stream": "stdout",
       "text": [
        "\r",
        "Waiting on bqjob_rbafaa70e6ee68b1_00000146d9b5ae8b_58 ... (1s) Current status: DONE   \n"
       ]
      },
      {
       "html": [
        "<div style=\"max-height:1000px;max-width:1500px;overflow:auto;\">\n",
        "<table border=\"1\" class=\"dataframe\">\n",
        "  <thead>\n",
        "    <tr style=\"text-align: right;\">\n",
        "      <th></th>\n",
        "      <th>matches</th>\n",
        "      <th>touches_per_match</th>\n",
        "      <th>touches</th>\n",
        "      <th>facts</th>\n",
        "    </tr>\n",
        "  </thead>\n",
        "  <tbody>\n",
        "    <tr>\n",
        "      <th>0</th>\n",
        "      <td> 2047</td>\n",
        "      <td> 1695.705423</td>\n",
        "      <td> 3471109</td>\n",
        "      <td> 13944568</td>\n",
        "    </tr>\n",
        "  </tbody>\n",
        "</table>\n",
        "</div>"
       ],
       "metadata": {},
       "output_type": "pyout",
       "prompt_number": 204,
       "text": [
        "   matches  touches_per_match  touches     facts\n",
        "0     2047        1695.705423  3471109  13944568"
       ]
      }
     ],
     "prompt_number": 204
    },
    {
     "cell_type": "markdown",
     "metadata": {},
     "source": [
      "Feature query complexity"
     ]
    },
    {
     "cell_type": "code",
     "collapsed": false,
     "input": [
      "import features\n",
      "print len(features.history_query)\n",
      "print len(features.history_query.upper().split(\"JOIN\"))\n",
      "print len(features.history_query.upper().split(\"GROUP\"))"
     ],
     "language": "python",
     "metadata": {},
     "outputs": [
      {
       "output_type": "stream",
       "stream": "stdout",
       "text": [
        "10415\n",
        "13\n",
        "8\n"
       ]
      }
     ],
     "prompt_number": 205
    },
    {
     "cell_type": "markdown",
     "metadata": {},
     "source": [
      "Building features from BigQuery"
     ]
    },
    {
     "cell_type": "code",
     "collapsed": false,
     "input": [
      "import features\n",
      "reload(features)\n",
      "# print features.history_query\n",
      "# Read the features from bigquery.\n",
      "data = features.get_features()\n",
      "data.iloc[0]"
     ],
     "language": "python",
     "metadata": {},
     "outputs": [
      {
       "output_type": "stream",
       "stream": "stdout",
       "text": [
        "\r",
        "Waiting on bqjob_r672c57d75f684fdb_00000146d9b5bc5c_59 ... (0s) Current status: RUNNING "
       ]
      },
      {
       "output_type": "stream",
       "stream": "stdout",
       "text": [
        "\r",
        "Waiting on bqjob_r672c57d75f684fdb_00000146d9b5bc5c_59 ... (1s) Current status: RUNNING "
       ]
      },
      {
       "output_type": "stream",
       "stream": "stdout",
       "text": [
        "\r",
        "Waiting on bqjob_r672c57d75f684fdb_00000146d9b5bc5c_59 ... (2s) Current status: RUNNING "
       ]
      },
      {
       "output_type": "stream",
       "stream": "stdout",
       "text": [
        "\r",
        "Waiting on bqjob_r672c57d75f684fdb_00000146d9b5bc5c_59 ... (3s) Current status: RUNNING "
       ]
      },
      {
       "output_type": "stream",
       "stream": "stdout",
       "text": [
        "\r",
        "Waiting on bqjob_r672c57d75f684fdb_00000146d9b5bc5c_59 ... (4s) Current status: RUNNING "
       ]
      },
      {
       "output_type": "stream",
       "stream": "stdout",
       "text": [
        "\r",
        "Waiting on bqjob_r672c57d75f684fdb_00000146d9b5bc5c_59 ... (5s) Current status: RUNNING "
       ]
      },
      {
       "output_type": "stream",
       "stream": "stdout",
       "text": [
        "\r",
        "Waiting on bqjob_r672c57d75f684fdb_00000146d9b5bc5c_59 ... (6s) Current status: RUNNING "
       ]
      },
      {
       "output_type": "stream",
       "stream": "stdout",
       "text": [
        "\r",
        "Waiting on bqjob_r672c57d75f684fdb_00000146d9b5bc5c_59 ... (7s) Current status: RUNNING "
       ]
      },
      {
       "output_type": "stream",
       "stream": "stdout",
       "text": [
        "\r",
        "Waiting on bqjob_r672c57d75f684fdb_00000146d9b5bc5c_59 ... (8s) Current status: RUNNING "
       ]
      },
      {
       "output_type": "stream",
       "stream": "stdout",
       "text": [
        "\r",
        "Waiting on bqjob_r672c57d75f684fdb_00000146d9b5bc5c_59 ... (9s) Current status: RUNNING "
       ]
      },
      {
       "output_type": "stream",
       "stream": "stdout",
       "text": [
        "\r",
        "Waiting on bqjob_r672c57d75f684fdb_00000146d9b5bc5c_59 ... (10s) Current status: RUNNING "
       ]
      },
      {
       "output_type": "stream",
       "stream": "stdout",
       "text": [
        "\r",
        "Waiting on bqjob_r672c57d75f684fdb_00000146d9b5bc5c_59 ... (11s) Current status: RUNNING "
       ]
      },
      {
       "output_type": "stream",
       "stream": "stdout",
       "text": [
        "\r",
        "Waiting on bqjob_r672c57d75f684fdb_00000146d9b5bc5c_59 ... (12s) Current status: RUNNING "
       ]
      },
      {
       "output_type": "stream",
       "stream": "stdout",
       "text": [
        "\r",
        "Waiting on bqjob_r672c57d75f684fdb_00000146d9b5bc5c_59 ... (13s) Current status: RUNNING "
       ]
      },
      {
       "output_type": "stream",
       "stream": "stdout",
       "text": [
        "\r",
        "Waiting on bqjob_r672c57d75f684fdb_00000146d9b5bc5c_59 ... (14s) Current status: RUNNING "
       ]
      },
      {
       "output_type": "stream",
       "stream": "stdout",
       "text": [
        "\r",
        "Waiting on bqjob_r672c57d75f684fdb_00000146d9b5bc5c_59 ... (14s) Current status: DONE   \n"
       ]
      },
      {
       "metadata": {},
       "output_type": "pyout",
       "prompt_number": 206,
       "text": [
        "matchid                                  311185\n",
        "teamid                                      357\n",
        "op_teamid                                   361\n",
        "competitionid                                 4\n",
        "is_home                                       1\n",
        "team_name                               Germany\n",
        "op_team_name                             Sweden\n",
        "timestamp            2006-06-24 16:00:00.000000\n",
        "goals                                         2\n",
        "op_goals                                      0\n",
        "points                                        3\n",
        "total_points                                  9\n",
        "total_goals                                   8\n",
        "total_op_goals                                2\n",
        "pass_70                                61.66667\n",
        "pass_80                                      25\n",
        "op_pass_70                                   27\n",
        "op_pass_80                             10.33333\n",
        "expected_goals                         2.705271\n",
        "op_expected_goals                     0.4770257\n",
        "passes                                 436.3333\n",
        "bad_passes                             98.66667\n",
        "pass_ratio                            0.8123193\n",
        "corners                                6.333333\n",
        "fouls                                        17\n",
        "cards                                  1.333333\n",
        "shots                                        22\n",
        "op_passes                                   307\n",
        "op_bad_passes                          96.33333\n",
        "op_corners                                    4\n",
        "op_fouls                               17.33333\n",
        "op_cards                                      2\n",
        "op_shots                               7.333333\n",
        "goals_op_ratio                                2\n",
        "shots_op_ratio                         3.641667\n",
        "pass_op_ratio                          1.109616\n",
        "Name: 0, dtype: object"
       ]
      }
     ],
     "prompt_number": 206
    },
    {
     "cell_type": "markdown",
     "metadata": {},
     "source": [
      "Getting to know our features"
     ]
    },
    {
     "cell_type": "code",
     "collapsed": false,
     "input": [
      "import pandas as pd\n",
      "pd.crosstab(data['goals'], data.replace({'points': {0: 'lose', 1: 'tie', 3: 'win'}})['points'])"
     ],
     "language": "python",
     "metadata": {},
     "outputs": [
      {
       "html": [
        "<div style=\"max-height:1000px;max-width:1500px;overflow:auto;\">\n",
        "<table border=\"1\" class=\"dataframe\">\n",
        "  <thead>\n",
        "    <tr style=\"text-align: right;\">\n",
        "      <th>points</th>\n",
        "      <th>lose</th>\n",
        "      <th>tie</th>\n",
        "      <th>win</th>\n",
        "    </tr>\n",
        "    <tr>\n",
        "      <th>goals</th>\n",
        "      <th></th>\n",
        "      <th></th>\n",
        "      <th></th>\n",
        "    </tr>\n",
        "  </thead>\n",
        "  <tbody>\n",
        "    <tr>\n",
        "      <th>0 </th>\n",
        "      <td> 769</td>\n",
        "      <td> 280</td>\n",
        "      <td>   0</td>\n",
        "    </tr>\n",
        "    <tr>\n",
        "      <th>1 </th>\n",
        "      <td> 483</td>\n",
        "      <td> 332</td>\n",
        "      <td> 351</td>\n",
        "    </tr>\n",
        "    <tr>\n",
        "      <th>2 </th>\n",
        "      <td> 135</td>\n",
        "      <td> 202</td>\n",
        "      <td> 493</td>\n",
        "    </tr>\n",
        "    <tr>\n",
        "      <th>3 </th>\n",
        "      <td>  28</td>\n",
        "      <td>  38</td>\n",
        "      <td> 320</td>\n",
        "    </tr>\n",
        "    <tr>\n",
        "      <th>4 </th>\n",
        "      <td>   4</td>\n",
        "      <td>   0</td>\n",
        "      <td> 176</td>\n",
        "    </tr>\n",
        "    <tr>\n",
        "      <th>5 </th>\n",
        "      <td>   0</td>\n",
        "      <td>   2</td>\n",
        "      <td>  60</td>\n",
        "    </tr>\n",
        "    <tr>\n",
        "      <th>6 </th>\n",
        "      <td>   0</td>\n",
        "      <td>   0</td>\n",
        "      <td>  18</td>\n",
        "    </tr>\n",
        "    <tr>\n",
        "      <th>7 </th>\n",
        "      <td>   1</td>\n",
        "      <td>   0</td>\n",
        "      <td>   7</td>\n",
        "    </tr>\n",
        "    <tr>\n",
        "      <th>8 </th>\n",
        "      <td>   0</td>\n",
        "      <td>   0</td>\n",
        "      <td>   4</td>\n",
        "    </tr>\n",
        "    <tr>\n",
        "      <th>10</th>\n",
        "      <td>   0</td>\n",
        "      <td>   0</td>\n",
        "      <td>   1</td>\n",
        "    </tr>\n",
        "  </tbody>\n",
        "</table>\n",
        "</div>"
       ],
       "metadata": {},
       "output_type": "pyout",
       "prompt_number": 207,
       "text": [
        "points  lose  tie  win\n",
        "goals                 \n",
        "0        769  280    0\n",
        "1        483  332  351\n",
        "2        135  202  493\n",
        "3         28   38  320\n",
        "4          4    0  176\n",
        "5          0    2   60\n",
        "6          0    0   18\n",
        "7          1    0    7\n",
        "8          0    0    4\n",
        "10         0    0    1"
       ]
      }
     ],
     "prompt_number": 207
    },
    {
     "cell_type": "markdown",
     "metadata": {},
     "source": [
      "Training the model"
     ]
    },
    {
     "cell_type": "code",
     "collapsed": false,
     "input": [
      "# Split out the world cup data to use later.\n",
      "wc_data = data[data['competitionid'] == 4]\n",
      "club_data = data[data['competitionid'] <> 4]\n"
     ],
     "language": "python",
     "metadata": {},
     "outputs": [],
     "prompt_number": 208
    },
    {
     "cell_type": "code",
     "collapsed": false,
     "input": [
      "import world_cup\n",
      "reload(world_cup)\n",
      "(model, test) = world_cup.trainModel(\n",
      "    club_data, features.get_non_feature_columns())\n",
      "print \"\\nRsquared: %0.03g\" % model.prsquared"
     ],
     "language": "python",
     "metadata": {},
     "outputs": [
      {
       "output_type": "stream",
       "stream": "stdout",
       "text": [
        "\n",
        "Rsquared: 0.103\n"
       ]
      }
     ],
     "prompt_number": 209
    },
    {
     "cell_type": "markdown",
     "metadata": {},
     "source": [
      "Picking important features"
     ]
    },
    {
     "cell_type": "code",
     "collapsed": false,
     "input": [
      "params = model.params.copy()\n",
      "params.sort(ascending=False)\n",
      "del params['intercept']\n",
      "\n",
      "print(\"Positive features\")\n",
      "params.sort(ascending=False)\n",
      "print np.exp(params[[param > 0.001 for param in params]][:5]).sub(1)\n",
      "\n",
      "print(\"\\nDropped features\")\n",
      "print params[[param  == 0.0 for param in params]][:5]\n",
      "\n",
      "print(\"\\nNegative features\")\n",
      "params.sort(ascending=True)\n",
      "print np.exp(params[[param < -0.001 for param in params]][:5]).sub(1)\n"
     ],
     "language": "python",
     "metadata": {},
     "outputs": [
      {
       "output_type": "stream",
       "stream": "stdout",
       "text": [
        "Positive features\n",
        "is_home                  0.658211\n",
        "passes                   0.157242\n",
        "pass_80                  0.153399\n",
        "opp_op_expected_goals    0.127088\n",
        "total_points             0.091806\n",
        "dtype: float64\n",
        "\n",
        "Dropped features\n",
        "op_fouls          0\n",
        "expected_goals    0\n",
        "pass_ratio        0\n",
        "op_bad_passes     0\n",
        "opp_pass_ratio    0\n",
        "dtype: float64\n",
        "\n",
        "Negative features\n",
        "opp_passes      -0.213201\n",
        "opp_op_passes   -0.183429\n",
        "opp_shots       -0.131893\n",
        "opp_pass_80     -0.104195\n",
        "opp_fouls       -0.097644\n",
        "dtype: float64\n"
       ]
      }
     ],
     "prompt_number": 210
    },
    {
     "cell_type": "markdown",
     "metadata": {},
     "source": [
      "Predicting wins"
     ]
    },
    {
     "cell_type": "code",
     "collapsed": false,
     "input": [
      "reload(world_cup)\n",
      "results = world_cup.predictModel(model, test, \n",
      "    features.get_non_feature_columns())\n",
      "\n",
      "predictions = world_cup.extractPredictions(\n",
      "    results.copy(), wc_results['predicted'])\n",
      "\n",
      "print 'Correct predictions:'\n",
      "print(predictions[(predictions['predicted'] > 50) & (predictions['points'] == 3)][:5])\n",
      "print '\\nIncorrect predictions:'\n",
      "print(predictions[(predictions['predicted'] > 50) & (predictions['points'] < 3)][:5])\n"
     ],
     "language": "python",
     "metadata": {},
     "outputs": [
      {
       "output_type": "stream",
       "stream": "stdout",
       "text": [
        "Correct predictions:\n",
        "           team_name          op_team_name  predicted  points\n",
        "0            Arsenal           Southampton  58.606993       3\n",
        "2             Fulham  West Bromwich Albion  55.681761       3\n",
        "3  Manchester United        Wigan Athletic  63.810963       3\n",
        "6            Chelsea            Stoke City  94.423991       3\n",
        "9        Southampton           Aston Villa  64.460700       3\n",
        "\n",
        "Incorrect predictions:\n",
        "              team_name       op_team_name  predicted  points\n",
        "1               Everton   Newcastle United  70.435017       1\n",
        "4          Norwich City    West Ham United  88.168891       1\n",
        "5   Queens Park Rangers            Chelsea  70.989417       1\n",
        "7             Liverpool  Manchester United  84.293332       0\n",
        "10         Swansea City            Everton  50.239223       0\n"
       ]
      }
     ],
     "prompt_number": 211
    },
    {
     "cell_type": "markdown",
     "metadata": {},
     "source": [
      "Validating our predictions"
     ]
    },
    {
     "cell_type": "code",
     "collapsed": false,
     "input": [
      "reload(world_cup)\n",
      "baseline = (sum([yval == 3 for yval in club_data['points']]) \n",
      "            * 1.0 / len(club_data))\n",
      "y = [yval == 3 for yval in test['points']]\n",
      "world_cup.validate(3, y, results['predicted'], baseline, \n",
      "                   compute_auc=True)\n",
      "pl.show()"
     ],
     "language": "python",
     "metadata": {},
     "outputs": [
      {
       "output_type": "stream",
       "stream": "stdout",
       "text": [
        "(3) Lift: 1.47 Auc: 0.708\n"
       ]
      },
      {
       "metadata": {},
       "output_type": "display_data",
       "png": "[encoded data removed]",
       "text": [
        "<matplotlib.figure.Figure at 0x6c473d0>"
       ]
      }
     ],
     "prompt_number": 212
    },
    {
     "cell_type": "markdown",
     "metadata": {},
     "source": [
      "Need.... more .... power!"
     ]
    },
    {
     "cell_type": "code",
     "collapsed": false,
     "input": [
      "reload(world_cup)\n",
      "\n",
      "power_cols = [\n",
      "  ('points', lambda p: p > 0, 'wins'),\n",
      "]\n",
      "\n",
      "power_data = world_cup.addPower(club_data, power_cols)\n",
      "(power_model, power_test) = world_cup.trainModel(\n",
      "    power_data, features.get_non_feature_columns())\n",
      "print \"\\nRsquared: %0.03g\" % power_model.prsquared\n",
      "\n",
      "power_results = world_cup.predictModel(power_model, power_test, \n",
      "    features.get_non_feature_columns())\n",
      "power_y = [yval == 3 for yval in power_test['points']]\n",
      "world_cup.validate(3, power_y, power_results['predicted'], baseline, \n",
      "                   compute_auc=True)\n",
      "\n",
      "pl.plot([0, 1], [0, 1], '--', color=(0.6, 0.6, 0.6), label='Luck')\n",
      "# Add the old model to the graph\n",
      "world_cup.validate('old', y, results['predicted'], baseline, \n",
      "                   compute_auc=True)\n",
      "pl.legend(loc=\"lower right\")\n",
      "pl.show()"
     ],
     "language": "python",
     "metadata": {},
     "outputs": [
      {
       "output_type": "stream",
       "stream": "stdout",
       "text": [
        "QC check did not pass for 7 out of 24 parameters\n",
        "Try increasing solver accuracy or number of iterations, decreasing alpha, or switch solvers\n",
        "Could not trim params automatically due to failed QC check.  Trimming using trim_mode == 'size' will still work.\n",
        "QC check did not pass for 6 out of 24 parameters\n",
        "Try increasing solver accuracy or number of iterations, decreasing alpha, or switch solvers"
       ]
      },
      {
       "output_type": "stream",
       "stream": "stdout",
       "text": [
        "\n",
        "Could not trim params automatically due to failed QC check.  Trimming using trim_mode == 'size' will still work.\n",
        "QC check did not pass for 5 out of 20 parameters\n",
        "Try increasing solver accuracy or number of iterations, decreasing alpha, or switch solvers"
       ]
      },
      {
       "output_type": "stream",
       "stream": "stdout",
       "text": [
        "\n",
        "Could not trim params automatically due to failed QC check.  Trimming using trim_mode == 'size' will still work.\n",
        "\n",
        "Rsquared: 0.167"
       ]
      },
      {
       "output_type": "stream",
       "stream": "stdout",
       "text": [
        "\n",
        "(3) Lift: 1.48 Auc: 0.721"
       ]
      },
      {
       "output_type": "stream",
       "stream": "stdout",
       "text": [
        "\n",
        "(old) Lift: 1.47 Auc: 0.708\n"
       ]
      },
      {
       "metadata": {},
       "output_type": "display_data",
       "png": "[encoded data removed]",
       "text": [
        "<matplotlib.figure.Figure at 0x5854990>"
       ]
      }
     ],
     "prompt_number": 213
    },
    {
     "cell_type": "code",
     "collapsed": false,
     "input": [
      "reload(features)\n",
      "wc_data = world_cup.prepareData(features.get_wc_features())\n"
     ],
     "language": "python",
     "metadata": {},
     "outputs": [
      {
       "output_type": "stream",
       "stream": "stdout",
       "text": [
        "\r",
        "Waiting on bqjob_r3ca065737197905_00000146d9b62251_60 ... (0s) Current status: RUNNING "
       ]
      },
      {
       "output_type": "stream",
       "stream": "stdout",
       "text": [
        "\r",
        "Waiting on bqjob_r3ca065737197905_00000146d9b62251_60 ... (1s) Current status: RUNNING "
       ]
      },
      {
       "output_type": "stream",
       "stream": "stdout",
       "text": [
        "\r",
        "Waiting on bqjob_r3ca065737197905_00000146d9b62251_60 ... (2s) Current status: RUNNING "
       ]
      },
      {
       "output_type": "stream",
       "stream": "stdout",
       "text": [
        "\r",
        "Waiting on bqjob_r3ca065737197905_00000146d9b62251_60 ... (3s) Current status: RUNNING "
       ]
      },
      {
       "output_type": "stream",
       "stream": "stdout",
       "text": [
        "\r",
        "Waiting on bqjob_r3ca065737197905_00000146d9b62251_60 ... (4s) Current status: RUNNING "
       ]
      },
      {
       "output_type": "stream",
       "stream": "stdout",
       "text": [
        "\r",
        "Waiting on bqjob_r3ca065737197905_00000146d9b62251_60 ... (5s) Current status: RUNNING "
       ]
      },
      {
       "output_type": "stream",
       "stream": "stdout",
       "text": [
        "\r",
        "Waiting on bqjob_r3ca065737197905_00000146d9b62251_60 ... (6s) Current status: RUNNING "
       ]
      },
      {
       "output_type": "stream",
       "stream": "stdout",
       "text": [
        "\r",
        "Waiting on bqjob_r3ca065737197905_00000146d9b62251_60 ... (7s) Current status: RUNNING "
       ]
      },
      {
       "output_type": "stream",
       "stream": "stdout",
       "text": [
        "\r",
        "Waiting on bqjob_r3ca065737197905_00000146d9b62251_60 ... (8s) Current status: RUNNING "
       ]
      },
      {
       "output_type": "stream",
       "stream": "stdout",
       "text": [
        "\r",
        "Waiting on bqjob_r3ca065737197905_00000146d9b62251_60 ... (9s) Current status: RUNNING "
       ]
      },
      {
       "output_type": "stream",
       "stream": "stdout",
       "text": [
        "\r",
        "Waiting on bqjob_r3ca065737197905_00000146d9b62251_60 ... (11s) Current status: RUNNING "
       ]
      },
      {
       "output_type": "stream",
       "stream": "stdout",
       "text": [
        "\r",
        "Waiting on bqjob_r3ca065737197905_00000146d9b62251_60 ... (12s) Current status: RUNNING "
       ]
      },
      {
       "output_type": "stream",
       "stream": "stdout",
       "text": [
        "\r",
        "Waiting on bqjob_r3ca065737197905_00000146d9b62251_60 ... (13s) Current status: RUNNING "
       ]
      },
      {
       "output_type": "stream",
       "stream": "stdout",
       "text": [
        "\r",
        "Waiting on bqjob_r3ca065737197905_00000146d9b62251_60 ... (14s) Current status: RUNNING "
       ]
      },
      {
       "output_type": "stream",
       "stream": "stdout",
       "text": [
        "\r",
        "Waiting on bqjob_r3ca065737197905_00000146d9b62251_60 ... (15s) Current status: RUNNING "
       ]
      },
      {
       "output_type": "stream",
       "stream": "stdout",
       "text": [
        "\r",
        "Waiting on bqjob_r3ca065737197905_00000146d9b62251_60 ... (15s) Current status: DONE   \n"
       ]
      }
     ],
     "prompt_number": 214
    },
    {
     "cell_type": "code",
     "collapsed": false,
     "input": [
      "reload(world_cup)\n",
      "# Tweak the world cup data to update values like home field advantage.\n",
      "wc_power = pd.read_csv('wc_power.csv')\n",
      "\n",
      "# Scale power rankings to the range [0,1]\n",
      "wc_power['power_ranking'] = wc_power['power_ranking'].sub(\n",
      "    wc_power['power_ranking'].min())\n",
      "wc_power['power_ranking'] = wc_power['power_ranking'].div(\n",
      "    wc_power['power_ranking'].max())\n",
      "\n",
      "overrides = {}\n",
      "home_override = {}\n",
      "for ii in xrange(len(wc_power)):\n",
      "    row = wc_power.iloc[ii]\n",
      "    overrides[row['teamid']] = (row['power_ranking'],\n",
      "                                row['is_home'])\n",
      "\n",
      "wc_power_data = wc_data.copy()\n",
      "power_col = pd.Series(np.zeros(len(wc_power_data)), wc_data.index)\n",
      "home_col = wc_data['is_home']\n",
      "for ii in xrange(len(wc_power_data)):\n",
      "    team = wc_power_data.iloc[ii]['teamid']\n",
      "    if team in overrides:\n",
      "        (new_power, new_home) = overrides[team]\n",
      "        power_col.iloc[ii] = new_power\n",
      "        home_col.iloc[ii] = new_home\n",
      "    else:\n",
      "        # If we don't know, assume middling.\n",
      "        power_col.iloc[ii] = 0.5\n",
      "        home_col.iloc[ii] = 0.5\n",
      "wc_power_data['power_wins'] = power_col\n",
      "wc_results = world_cup.predictModel(power_model, wc_power_data, \n",
      "    features.get_non_feature_columns())\n",
      "\n",
      "world_cup.extractPredictions(wc_power_data, \n",
      "                             wc_results['predicted'])[-8:]"
     ],
     "language": "python",
     "metadata": {},
     "outputs": [
      {
       "html": [
        "<div style=\"max-height:1000px;max-width:1500px;overflow:auto;\">\n",
        "<table border=\"1\" class=\"dataframe\">\n",
        "  <thead>\n",
        "    <tr style=\"text-align: right;\">\n",
        "      <th></th>\n",
        "      <th>team_name</th>\n",
        "      <th>op_team_name</th>\n",
        "      <th>predicted</th>\n",
        "    </tr>\n",
        "  </thead>\n",
        "  <tbody>\n",
        "    <tr>\n",
        "      <th>84</th>\n",
        "      <td>      Brazil</td>\n",
        "      <td>       Chile</td>\n",
        "      <td> 86.407069</td>\n",
        "    </tr>\n",
        "    <tr>\n",
        "      <th>85</th>\n",
        "      <td>    Colombia</td>\n",
        "      <td>     Uruguay</td>\n",
        "      <td> 71.673027</td>\n",
        "    </tr>\n",
        "    <tr>\n",
        "      <th>86</th>\n",
        "      <td> Netherlands</td>\n",
        "      <td>      Mexico</td>\n",
        "      <td> 75.928695</td>\n",
        "    </tr>\n",
        "    <tr>\n",
        "      <th>87</th>\n",
        "      <td>  Costa Rica</td>\n",
        "      <td>      Greece</td>\n",
        "      <td> 37.006825</td>\n",
        "    </tr>\n",
        "    <tr>\n",
        "      <th>88</th>\n",
        "      <td>      France</td>\n",
        "      <td>     Nigeria</td>\n",
        "      <td> 95.261023</td>\n",
        "    </tr>\n",
        "    <tr>\n",
        "      <th>89</th>\n",
        "      <td>     Germany</td>\n",
        "      <td>      Russia</td>\n",
        "      <td> 91.200160</td>\n",
        "    </tr>\n",
        "    <tr>\n",
        "      <th>90</th>\n",
        "      <td>   Argentina</td>\n",
        "      <td> Switzerland</td>\n",
        "      <td> 53.670056</td>\n",
        "    </tr>\n",
        "    <tr>\n",
        "      <th>91</th>\n",
        "      <td>     Belgium</td>\n",
        "      <td>         USA</td>\n",
        "      <td> 76.455925</td>\n",
        "    </tr>\n",
        "  </tbody>\n",
        "</table>\n",
        "</div>"
       ],
       "metadata": {},
       "output_type": "pyout",
       "prompt_number": 215,
       "text": [
        "      team_name op_team_name  predicted\n",
        "84       Brazil        Chile  86.407069\n",
        "85     Colombia      Uruguay  71.673027\n",
        "86  Netherlands       Mexico  75.928695\n",
        "87   Costa Rica       Greece  37.006825\n",
        "88       France      Nigeria  95.261023\n",
        "89      Germany       Russia  91.200160\n",
        "90    Argentina  Switzerland  53.670056\n",
        "91      Belgium          USA  76.455925"
       ]
      }
     ],
     "prompt_number": 215
    },
    {
     "cell_type": "code",
     "collapsed": false,
     "input": [],
     "language": "python",
     "metadata": {},
     "outputs": [],
     "prompt_number": 215
    }
   ],
   "metadata": {}
  }
 ]
}