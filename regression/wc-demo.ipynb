{
 "metadata": {
  "name": "wc-demo"
 },
 "nbformat": 3,
 "nbformat_minor": 0,
 "worksheets": [
  {
   "cells": [
    {
     "cell_type": "markdown",
     "metadata": {},
     "source": "How big is our data?"
    },
    {
     "cell_type": "code",
     "collapsed": false,
     "input": "from pandas.io import gbq\nquery = \"\"\"\n  SELECT \n      COUNT(DISTINCT(matchid)) as matches,\n      COUNT(DISTINCT(eventid)) / \n            COUNT(DISTINCT(matchid)) as touches_per_match,\n      COUNT(DISTINCT(eventid)) touches, \n         SUM(COUNT(qualifiers.id)) as facts,\n  FROM ([toque.touches])\n  \"\"\"\ngbq.read_gbq(query)",
     "language": "python",
     "metadata": {},
     "outputs": []
    },
    {
     "cell_type": "markdown",
     "metadata": {},
     "source": "Feature query complexity"
    },
    {
     "cell_type": "code",
     "collapsed": false,
     "input": "import features\nprint len(features.history_query.upper().split(\"JOIN\"))\nprint len(features.history_query.upper().split(\"GROUP\"))",
     "language": "python",
     "metadata": {},
     "outputs": []
    },
    {
     "cell_type": "markdown",
     "metadata": {},
     "source": "Building features from BigQuery"
    },
    {
     "cell_type": "code",
     "collapsed": false,
     "input": "import features\n# Read the features from bigquery.\ndata = features.get_features()\ndata.iloc[0]",
     "language": "python",
     "metadata": {},
     "outputs": []
    },
    {
     "cell_type": "markdown",
     "metadata": {},
     "source": "Getting to know our features"
    },
    {
     "cell_type": "code",
     "collapsed": false,
     "input": "import pandas as pd\npd.crosstab(data['goals'], data['points'])",
     "language": "python",
     "metadata": {},
     "outputs": []
    },
    {
     "cell_type": "code",
     "collapsed": false,
     "input": "import pylab as pl\ndata[features.get_feature_columns(data)[0:2]].hist()\ndata[features.get_feature_columns(data)[2:4]].hist()\ndata[features.get_feature_columns(data)[4:6]].hist()\n\npl.show()",
     "language": "python",
     "metadata": {},
     "outputs": []
    },
    {
     "cell_type": "markdown",
     "metadata": {},
     "source": "Training the model"
    },
    {
     "cell_type": "code",
     "collapsed": false,
     "input": "import world_cup\n(model, test) = world_cup.trainModel(\n    data, features.get_non_feature_columns())\nprint \"\\nPseudo-Rsquared: %0.03g\" % model.prsquared",
     "language": "python",
     "metadata": {},
     "outputs": []
    },
    {
     "cell_type": "markdown",
     "metadata": {},
     "source": "Picking important features"
    },
    {
     "cell_type": "code",
     "collapsed": false,
     "input": "params = model.params.copy()\nparams.sort(ascending=False)\ndel params['intercept']\n\nprint(\"Positive features\")\nparams.sort(ascending=False)\nprint params[[param > 0.001 for param in params]]\n\nprint(\"\\nDropped features\")\nprint params[[param  == 0.0 for param in params]]\n\nprint(\"\\nNegative features\")\nparams.sort(ascending=True)\nprint params[[param < -0.001 for param in params]]\n",
     "language": "python",
     "metadata": {},
     "outputs": []
    },
    {
     "cell_type": "markdown",
     "metadata": {},
     "source": "Predicting wins"
    },
    {
     "cell_type": "code",
     "collapsed": false,
     "input": "results = world_cup.predictModel(model, test, \n    features.get_non_feature_columns())\n\nprint(results[['team_name', 'op_team_name',\n         'predicted', 'points']][(results['predicted'] > .5) & (results['points'] == 3)])\nprint(results[['team_name', 'op_team_name',\n         'predicted', 'points']][(results['predicted'] > .5) & (results['points'] < 3)])",
     "language": "python",
     "metadata": {},
     "outputs": []
    },
    {
     "cell_type": "markdown",
     "metadata": {},
     "source": "Validating our predictions"
    },
    {
     "cell_type": "code",
     "collapsed": false,
     "input": "reload(world_cup)\nbaseline = (sum([yval == 3 for yval in data['points']]) \n            * 1.0 / len(data))\ny = [yval == 3 for yval in test['points']]\nworld_cup.validate(3, y, results['predicted'], baseline, \n                   compute_auc=True)\npl.show()",
     "language": "python",
     "metadata": {},
     "outputs": []
    },
    {
     "cell_type": "markdown",
     "metadata": {},
     "source": "Need.... more .... power!"
    },
    {
     "cell_type": "code",
     "collapsed": false,
     "input": "reload(world_cup)\n\npower_cols = [\n  ('points', lambda p: 1.0 if p > 2 else 0.0, 'wins'),\n  ('points', lambda p: 1.0 if p > 0 else 0.0, 'nonloss'),\n  ('points', lambda p: p/3.0, 'norm_points'),\n  ('goals', lambda p: p, 'goals'),\n  ('goals', lambda p: 1.0 if p >= 1.0 else 0.0, 'some_goals'),\n  ('goals', lambda p: 1.0 if p >= 1.0 else 0.0, 'two_goals'),\n  ('expected_goals', lambda p: p  >= 1.0, 'expected_goal'),\n  ('shots', lambda p: p  >= 1.0, 'shots'),\n]\n\npower_data = world_cup.addPower(data, power_cols)\nworld_cup.runGameNoDraw(power_data, features.get_non_feature_columns())\npl.plot([0, 1], [0, 1], '--', color=(0.6, 0.6, 0.6), label='Luck')\n# Add the old model to the graph\nworld_cup.validate('old', y, results['predicted'], baseline, \n                   compute_auc=True)\npl.legend(loc=\"lower right\")\npl.show()",
     "language": "python",
     "metadata": {},
     "outputs": []
    },
    {
     "cell_type": "code",
     "collapsed": false,
     "input": "",
     "language": "python",
     "metadata": {},
     "outputs": []
    }
   ],
   "metadata": {}
  }
 ]
}