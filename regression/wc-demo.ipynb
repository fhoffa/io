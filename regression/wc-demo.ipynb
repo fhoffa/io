{
 "metadata": {
  "name": "",
  "signature": "sha256:06f89a947ceb2cb42d6788c763ddfc6bca6b78e3ca0a2452a88c9c7852fae790"
 },
 "nbformat": 3,
 "nbformat_minor": 0,
 "worksheets": [
  {
   "cells": [
    {
     "cell_type": "code",
     "collapsed": false,
     "input": [
      "from pandas.io import gbq\n",
      "gbq.read_gbq('SELECT COUNT(*) c FROM [toque.touches] LIMIT 1000')"
     ],
     "language": "python",
     "metadata": {},
     "outputs": []
    },
    {
     "cell_type": "code",
     "collapsed": false,
     "input": [
      "import features\n",
      "print features.history_query"
     ],
     "language": "python",
     "metadata": {},
     "outputs": []
    },
    {
     "cell_type": "code",
     "collapsed": false,
     "input": [
      "import pprint\n",
      "import features\n",
      "reload(features)\n",
      "# Read the features from bigquery.\n",
      "data = features.get_features()\n",
      "data.head()"
     ],
     "language": "python",
     "metadata": {},
     "outputs": []
    },
    {
     "cell_type": "code",
     "collapsed": false,
     "input": [
      "import pylab as pl\n",
      "import pandas as pd\n",
      "import features\n",
      "\n",
      "print pd.crosstab(data['goals'], data['points'])\n"
     ],
     "language": "python",
     "metadata": {},
     "outputs": []
    },
    {
     "cell_type": "code",
     "collapsed": false,
     "input": [
      "data[features.get_feature_columns(data)[0:6]].hist()\n",
      "pl.show()"
     ],
     "language": "python",
     "metadata": {},
     "outputs": []
    },
    {
     "cell_type": "code",
     "collapsed": false,
     "input": [
      "world_cup.runGameNoDraw(data, features.get_non_feature_columns())"
     ],
     "language": "python",
     "metadata": {},
     "outputs": []
    }
   ],
   "metadata": {}
  }
 ]
}