{
 "metadata": {
  "name": "",
  "signature": "sha256:779239bcecc2d0686ddf9988d2115f16a4d4f4667b91d56713c8bc76317e4388"
 },
 "nbformat": 3,
 "nbformat_minor": 0,
 "worksheets": [
  {
   "cells": [
    {
     "cell_type": "code",
     "collapsed": false,
     "input": [
      "reload(world_cup)\n",
      "reload(features)\n",
      "\n",
      "import features\n",
      "import world_cup\n",
      "\n",
      "data = features.get_features()\n",
      "data = world_cup.prepare_data(data)\n",
      "\n",
      "not_train_cols = ['teamid', 'op_teamid', 'matchid',\n",
      "                  'goals', 'op_goals', 'points', 'timestamp']\n",
      "train_cols = [col for col in data.columns if col not in not_train_cols]\n",
      "\n",
      "world_cup.runSimple(data, not_train_cols)\n",
      "# world_cup.runTeam(data, not_train_cols, 'goals')\n",
      "# world_cup.runGame(data, not_train_cols, 'points')\n",
      "# world_cup.runGameNoDraw(data, not_train_cols, 'points')"
     ],
     "language": "python",
     "metadata": {},
     "outputs": [
      {
       "output_type": "stream",
       "stream": "stdout",
       "text": [
        "\r",
        "Waiting on bqjob_r2e41537aa771dabf_000001464f58419d_22 ... (0s) Current status: DONE   \n",
        "Optimization terminated successfully."
       ]
      },
      {
       "output_type": "stream",
       "stream": "stdout",
       "text": [
        "\n",
        "         Current function value: 0.606130\n",
        "         Iterations 6\n",
        "(3) Base: 0.382962 Acc: 0.631373 P(1|t): 0.530612 P(0|f): 0.694268 Lift: 1.35784 Auc: 0.648483870968\n",
        "Fp/Fn/Tp/Tn p/n/c: 92/96/104/218 200/310/510\n",
        "                           Logit Regression Results                           \n",
        "==============================================================================\n",
        "Dep. Variable:                      y   No. Observations:                  746\n",
        "Model:                          Logit   Df Residuals:                      722\n",
        "Method:                           MLE   Df Model:                           23\n",
        "Date:                Fri, 30 May 2014   Pseudo R-squ.:                 0.08497\n",
        "Time:                        15:55:25   Log-Likelihood:                -452.17\n",
        "converged:                       True   LL-Null:                       -494.16\n",
        "                                        LLR p-value:                 7.132e-09\n",
        "==================================================================================\n",
        "                     coef    std err          z      P>|z|      [95.0% Conf. Int.]\n",
        "----------------------------------------------------------------------------------\n",
        "is_home            0.5841      0.182      3.203      0.001         0.227     0.942\n",
        "home_passes       -0.0005      0.000     -1.727      0.084        -0.001  6.62e-05\n",
        "home_goals         0.0027      0.015      0.187      0.852        -0.026     0.031\n",
        "home_shots         0.0106      0.005      1.930      0.054        -0.000     0.021\n",
        "op_home_passes     0.0089      0.006      1.481      0.139        -0.003     0.021\n",
        "op_home_goals      0.0080      0.017      0.482      0.630        -0.025     0.041\n",
        "op_home_shots     -0.2110      0.152     -1.386      0.166        -0.509     0.087\n",
        "op_away_passes     0.0089      0.006      1.487      0.137        -0.003     0.021\n",
        "op_away_goals     -0.0105      0.014     -0.747      0.455        -0.038     0.017\n",
        "op_away_shots     -0.2244      0.153     -1.464      0.143        -0.525     0.076\n",
        "passes             0.0077      0.003      2.289      0.022         0.001     0.014\n",
        "bad_passes        -0.0074      0.012     -0.633      0.527        -0.031     0.016\n",
        "pass_ratio        -8.6462     10.948     -0.790      0.430       -30.105    12.812\n",
        "corners            0.1053      0.055      1.920      0.055        -0.002     0.213\n",
        "fouls              0.0260      0.037      0.693      0.488        -0.047     0.099\n",
        "cards              0.1942      0.123      1.584      0.113        -0.046     0.434\n",
        "shots             -0.0043      0.043     -0.100      0.921        -0.088     0.080\n",
        "op_passes         -0.0858      0.060     -1.428      0.153        -0.204     0.032\n",
        "op_bad_passes      0.0072      0.009      0.792      0.429        -0.011     0.025\n",
        "op_corners         0.0045      0.052      0.086      0.932        -0.098     0.107\n",
        "op_fouls           0.0589      0.042      1.395      0.163        -0.024     0.142\n",
        "op_cards           0.0040      0.120      0.034      0.973        -0.231     0.239\n",
        "op_shots           2.1847      1.531      1.427      0.153        -0.815     5.184\n",
        "intercept         -5.9646      9.390     -0.635      0.525       -24.369    12.440\n",
        "=================================================================================="
       ]
      },
      {
       "output_type": "stream",
       "stream": "stdout",
       "text": [
        "\n",
        "is_home           1.793422\n",
        "home_passes       0.999509\n",
        "home_goals        1.002734\n",
        "home_shots        1.010612\n",
        "op_home_passes    1.008931\n",
        "op_home_goals     1.008064\n",
        "op_home_shots     0.809755\n",
        "op_away_passes    1.008990\n",
        "op_away_goals     0.989578\n",
        "op_away_shots     0.799021\n",
        "passes            1.007721\n",
        "bad_passes        0.992582\n",
        "pass_ratio        0.000176\n",
        "corners           1.111032\n",
        "fouls             1.026303\n",
        "cards             1.214335\n",
        "shots             0.995727\n",
        "op_passes         0.917778\n",
        "op_bad_passes     1.007208\n",
        "op_corners        1.004515\n",
        "op_fouls          1.060617\n",
        "op_cards          1.004040\n",
        "op_shots          8.887659\n",
        "intercept         0.002568\n",
        "dtype: float64\n"
       ]
      },
      {
       "ename": "NameError",
       "evalue": "global name 'team_predictions' is not defined",
       "output_type": "pyerr",
       "traceback": [
        "\u001b[0;31m---------------------------------------------------------------------------\u001b[0m\n\u001b[0;31mNameError\u001b[0m                                 Traceback (most recent call last)",
        "\u001b[0;32m<ipython-input-37-1f2db7baaead>\u001b[0m in \u001b[0;36m<module>\u001b[0;34m()\u001b[0m\n\u001b[1;32m     12\u001b[0m \u001b[0mtrain_cols\u001b[0m \u001b[0;34m=\u001b[0m \u001b[0;34m[\u001b[0m\u001b[0mcol\u001b[0m \u001b[0;32mfor\u001b[0m \u001b[0mcol\u001b[0m \u001b[0;32min\u001b[0m \u001b[0mdata\u001b[0m\u001b[0;34m.\u001b[0m\u001b[0mcolumns\u001b[0m \u001b[0;32mif\u001b[0m \u001b[0mcol\u001b[0m \u001b[0;32mnot\u001b[0m \u001b[0;32min\u001b[0m \u001b[0mnot_train_cols\u001b[0m\u001b[0;34m]\u001b[0m\u001b[0;34m\u001b[0m\u001b[0m\n\u001b[1;32m     13\u001b[0m \u001b[0;34m\u001b[0m\u001b[0m\n\u001b[0;32m---> 14\u001b[0;31m \u001b[0mworld_cup\u001b[0m\u001b[0;34m.\u001b[0m\u001b[0mrunSimple\u001b[0m\u001b[0;34m(\u001b[0m\u001b[0mdata\u001b[0m\u001b[0;34m,\u001b[0m \u001b[0mnot_train_cols\u001b[0m\u001b[0;34m)\u001b[0m\u001b[0;34m\u001b[0m\u001b[0m\n\u001b[0m\u001b[1;32m     15\u001b[0m \u001b[0;31m# world_cup.runTeam(data, not_train_cols, 'goals')\u001b[0m\u001b[0;34m\u001b[0m\u001b[0;34m\u001b[0m\u001b[0m\n\u001b[1;32m     16\u001b[0m \u001b[0;31m# world_cup.runGame(data, not_train_cols, 'points')\u001b[0m\u001b[0;34m\u001b[0m\u001b[0;34m\u001b[0m\u001b[0m\n",
        "\u001b[0;32m/Users/tigani/experimental_frontend/colaboratory/colaboratory/modules/world_cup.py\u001b[0m in \u001b[0;36mrunSimple\u001b[0;34m(data, ignore_cols)\u001b[0m\n\u001b[1;32m    455\u001b[0m   \u001b[0;32mprint\u001b[0m \u001b[0mmodel\u001b[0m\u001b[0;34m.\u001b[0m\u001b[0msummary\u001b[0m\u001b[0;34m(\u001b[0m\u001b[0;34m)\u001b[0m\u001b[0;34m\u001b[0m\u001b[0m\n\u001b[1;32m    456\u001b[0m   \u001b[0;32mprint\u001b[0m \u001b[0mnp\u001b[0m\u001b[0;34m.\u001b[0m\u001b[0mexp\u001b[0m\u001b[0;34m(\u001b[0m\u001b[0mmodel\u001b[0m\u001b[0;34m.\u001b[0m\u001b[0mparams\u001b[0m\u001b[0;34m)\u001b[0m\u001b[0;34m\u001b[0m\u001b[0m\n\u001b[0;32m--> 457\u001b[0;31m   \u001b[0;32mprint\u001b[0m \u001b[0mconfusion_matrix\u001b[0m\u001b[0;34m(\u001b[0m\u001b[0my\u001b[0m\u001b[0;34m,\u001b[0m \u001b[0;34m[\u001b[0m\u001b[0mprediction\u001b[0m \u001b[0;34m>\u001b[0m \u001b[0;36m.47\u001b[0m \u001b[0;32mfor\u001b[0m \u001b[0mprediction\u001b[0m \u001b[0;32min\u001b[0m \u001b[0mteam_predictions\u001b[0m\u001b[0;34m]\u001b[0m\u001b[0;34m)\u001b[0m\u001b[0;34m\u001b[0m\u001b[0m\n\u001b[0m\u001b[1;32m    458\u001b[0m \u001b[0;34m\u001b[0m\u001b[0m\n\u001b[1;32m    459\u001b[0m \u001b[0;32mdef\u001b[0m \u001b[0mprepare_data\u001b[0m\u001b[0;34m(\u001b[0m\u001b[0mdata\u001b[0m\u001b[0;34m)\u001b[0m\u001b[0;34m:\u001b[0m\u001b[0;34m\u001b[0m\u001b[0m\n",
        "\u001b[0;31mNameError\u001b[0m: global name 'team_predictions' is not defined"
       ]
      }
     ],
     "prompt_number": 37
    },
    {
     "cell_type": "code",
     "collapsed": false,
     "input": [
      "print 88.0/(88+20+18)\n",
      "print 23.0/(34+23+7)\n",
      "print 22.0/(28+32+22)"
     ],
     "language": "python",
     "metadata": {},
     "outputs": [
      {
       "output_type": "stream",
       "stream": "stdout",
       "text": [
        "0.698412698413\n",
        "0.359375\n",
        "0.268292682927\n"
       ]
      }
     ],
     "prompt_number": 28
    },
    {
     "cell_type": "code",
     "collapsed": false,
     "input": [],
     "language": "python",
     "metadata": {},
     "outputs": [],
     "prompt_number": 12
    },
    {
     "cell_type": "code",
     "collapsed": false,
     "input": [],
     "language": "python",
     "metadata": {},
     "outputs": []
    }
   ],
   "metadata": {}
  }
 ]
}